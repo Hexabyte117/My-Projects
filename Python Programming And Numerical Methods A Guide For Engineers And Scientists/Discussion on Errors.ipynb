{
 "cells": [
  {
   "cell_type": "code",
   "execution_count": 1,
   "id": "8d771a2c",
   "metadata": {},
   "outputs": [],
   "source": [
    "import numpy as np"
   ]
  },
  {
   "cell_type": "code",
   "execution_count": 2,
   "id": "adc03611",
   "metadata": {},
   "outputs": [
    {
     "name": "stdout",
     "output_type": "stream",
     "text": [
      "Using 0-term, 1.0\n",
      "Using 1-term, 3.0\n",
      "Using 2-term, 5.0\n",
      "Using 3-term, 6.333333333333333\n",
      "Using 4-term, 7.0\n",
      "Using 5-term, 7.266666666666667\n",
      "Using 6-term, 7.355555555555555\n",
      "Using 7-term, 7.3809523809523805\n",
      "Using 8-term, 7.387301587301587\n",
      "Using 9-term, 7.3887125220458545\n",
      "The true e^2 is: \n",
      "7.38905609893065\n"
     ]
    }
   ],
   "source": [
    "exp = 0\n",
    "x = 2\n",
    "for i in range(10):\n",
    "    exp = exp + \\\n",
    "       ((x**i)/np.math.factorial(i))\n",
    "    print(f'Using {i}-term, {exp}')\n",
    "    \n",
    "print(f'The true e^2 is: \\n{np.exp(2)}')"
   ]
  },
  {
   "cell_type": "code",
   "execution_count": 4,
   "id": "02cda858",
   "metadata": {},
   "outputs": [
    {
     "data": {
      "text/plain": [
       "0.0003435768847959153"
      ]
     },
     "execution_count": 4,
     "metadata": {},
     "output_type": "execute_result"
    }
   ],
   "source": [
    "abs(7.3887125220458545-np.exp(2))"
   ]
  },
  {
   "cell_type": "code",
   "execution_count": 5,
   "id": "db7fd23f",
   "metadata": {},
   "outputs": [
    {
     "name": "stdout",
     "output_type": "stream",
     "text": [
      "Using 199-term, our result is -8.553016433669241e-05\n",
      "The true e^2 is: 9.357622968840175e-14\n"
     ]
    }
   ],
   "source": [
    "exp = 0\n",
    "x = -30\n",
    "for i in range(200):\n",
    "    exp = exp + \\\n",
    "       ((x**i)/np.math.factorial(i))\n",
    "    \n",
    "print(f'Using {i}-term, our result is {exp}')    \n",
    "print(f'The true e^2 is: {np.exp(x)}')"
   ]
  },
  {
   "cell_type": "code",
   "execution_count": null,
   "id": "ab290f3c",
   "metadata": {},
   "outputs": [],
   "source": []
  }
 ],
 "metadata": {
  "kernelspec": {
   "display_name": "Python 3 (ipykernel)",
   "language": "python",
   "name": "python3"
  },
  "language_info": {
   "codemirror_mode": {
    "name": "ipython",
    "version": 3
   },
   "file_extension": ".py",
   "mimetype": "text/x-python",
   "name": "python",
   "nbconvert_exporter": "python",
   "pygments_lexer": "ipython3",
   "version": "3.9.13"
  }
 },
 "nbformat": 4,
 "nbformat_minor": 5
}
