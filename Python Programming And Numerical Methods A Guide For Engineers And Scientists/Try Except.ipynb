{
 "cells": [
  {
   "cell_type": "code",
   "execution_count": 1,
   "id": "a7ea45a6",
   "metadata": {},
   "outputs": [
    {
     "ename": "SyntaxError",
     "evalue": "invalid syntax (3363322934.py, line 2)",
     "output_type": "error",
     "traceback": [
      "\u001b[1;36m  File \u001b[1;32m\"C:\\Users\\629078\\AppData\\Local\\Temp\\ipykernel_25712\\3363322934.py\"\u001b[1;36m, line \u001b[1;32m2\u001b[0m\n\u001b[1;33m    code block 1\u001b[0m\n\u001b[1;37m         ^\u001b[0m\n\u001b[1;31mSyntaxError\u001b[0m\u001b[1;31m:\u001b[0m invalid syntax\n"
     ]
    }
   ],
   "source": [
    "try:\n",
    "    code block 1\n",
    "except ExceptionName:\n",
    "    code block 2"
   ]
  },
  {
   "cell_type": "code",
   "execution_count": 2,
   "id": "47c7ecec",
   "metadata": {},
   "outputs": [
    {
     "name": "stdout",
     "output_type": "stream",
     "text": [
      "Oops! x was not a valid number. Try again...\n"
     ]
    }
   ],
   "source": [
    "x = '6'\n",
    "try:\n",
    "    if x > 3:\n",
    "        print('X is larger than 3')\n",
    "except TypeError:\n",
    "    print(\"Oops! x was not a valid number. Try again...\")"
   ]
  },
  {
   "cell_type": "code",
   "execution_count": 3,
   "id": "b6f98701",
   "metadata": {},
   "outputs": [
    {
     "ename": "TypeError",
     "evalue": "'>' not supported between instances of 'str' and 'int'",
     "output_type": "error",
     "traceback": [
      "\u001b[1;31m---------------------------------------------------------------------------\u001b[0m",
      "\u001b[1;31mTypeError\u001b[0m                                 Traceback (most recent call last)",
      "\u001b[1;32m~\\AppData\\Local\\Temp\\ipykernel_25712\\576308448.py\u001b[0m in \u001b[0;36m<module>\u001b[1;34m\u001b[0m\n\u001b[0;32m      1\u001b[0m \u001b[0mx\u001b[0m \u001b[1;33m=\u001b[0m \u001b[1;34m'6'\u001b[0m\u001b[1;33m\u001b[0m\u001b[1;33m\u001b[0m\u001b[0m\n\u001b[0;32m      2\u001b[0m \u001b[1;32mtry\u001b[0m\u001b[1;33m:\u001b[0m\u001b[1;33m\u001b[0m\u001b[1;33m\u001b[0m\u001b[0m\n\u001b[1;32m----> 3\u001b[1;33m     \u001b[1;32mif\u001b[0m \u001b[0mx\u001b[0m \u001b[1;33m>\u001b[0m \u001b[1;36m3\u001b[0m\u001b[1;33m:\u001b[0m\u001b[1;33m\u001b[0m\u001b[1;33m\u001b[0m\u001b[0m\n\u001b[0m\u001b[0;32m      4\u001b[0m         \u001b[0mprint\u001b[0m\u001b[1;33m(\u001b[0m\u001b[1;34m'X is larger than 3'\u001b[0m\u001b[1;33m)\u001b[0m\u001b[1;33m\u001b[0m\u001b[1;33m\u001b[0m\u001b[0m\n\u001b[0;32m      5\u001b[0m \u001b[1;32mexcept\u001b[0m \u001b[0mValueError\u001b[0m\u001b[1;33m:\u001b[0m\u001b[1;33m\u001b[0m\u001b[1;33m\u001b[0m\u001b[0m\n",
      "\u001b[1;31mTypeError\u001b[0m: '>' not supported between instances of 'str' and 'int'"
     ]
    }
   ],
   "source": [
    "x = '6'\n",
    "try:\n",
    "    if x > 3:\n",
    "        print('X is larger than 3')\n",
    "except ValueError:\n",
    "    print(\"Oops! x was not a valid number. Try again...\")"
   ]
  },
  {
   "cell_type": "code",
   "execution_count": 4,
   "id": "56cf594f",
   "metadata": {},
   "outputs": [
    {
     "name": "stdout",
     "output_type": "stream",
     "text": [
      "Something is wrong with x = s\n"
     ]
    }
   ],
   "source": [
    "x = 's'\n",
    "\n",
    "try:\n",
    "    if x > 3:\n",
    "        print(x)\n",
    "except:\n",
    "    print(f'Something is wrong with x = {x}')"
   ]
  },
  {
   "cell_type": "code",
   "execution_count": 5,
   "id": "d88262bb",
   "metadata": {},
   "outputs": [],
   "source": [
    "def test_exceptions(x):\n",
    "    try:\n",
    "        x = int(x)\n",
    "        if x > 3:\n",
    "            print(x)\n",
    "    except TypeError:\n",
    "        print(\"Oops! x was not a valid number. Try again...\")\n",
    "    except ValueError:\n",
    "        print(\"Oops! Can not convert x to integer. Try again...\")\n",
    "    except:\n",
    "        print(\"Unexpected error\")"
   ]
  },
  {
   "cell_type": "code",
   "execution_count": 6,
   "id": "5849c9cd",
   "metadata": {},
   "outputs": [
    {
     "name": "stdout",
     "output_type": "stream",
     "text": [
      "Oops! x was not a valid number. Try again...\n"
     ]
    }
   ],
   "source": [
    "x = [1, 2]\n",
    "test_exceptions(x)"
   ]
  },
  {
   "cell_type": "code",
   "execution_count": 7,
   "id": "02dc0f96",
   "metadata": {},
   "outputs": [
    {
     "name": "stdout",
     "output_type": "stream",
     "text": [
      "Oops! x was not a valid number. Try again...\n"
     ]
    }
   ],
   "source": [
    "x = [1, 2]\n",
    "test_exceptions(x)"
   ]
  },
  {
   "cell_type": "code",
   "execution_count": 8,
   "id": "cd5d7e25",
   "metadata": {},
   "outputs": [
    {
     "ename": "Exception",
     "evalue": "x should be less or equal to 5",
     "output_type": "error",
     "traceback": [
      "\u001b[1;31m---------------------------------------------------------------------------\u001b[0m",
      "\u001b[1;31mException\u001b[0m                                 Traceback (most recent call last)",
      "\u001b[1;32m~\\AppData\\Local\\Temp\\ipykernel_25712\\3775647563.py\u001b[0m in \u001b[0;36m<module>\u001b[1;34m\u001b[0m\n\u001b[0;32m      2\u001b[0m \u001b[1;33m\u001b[0m\u001b[0m\n\u001b[0;32m      3\u001b[0m \u001b[1;32mif\u001b[0m \u001b[0mx\u001b[0m \u001b[1;33m>\u001b[0m \u001b[1;36m5\u001b[0m\u001b[1;33m:\u001b[0m\u001b[1;33m\u001b[0m\u001b[1;33m\u001b[0m\u001b[0m\n\u001b[1;32m----> 4\u001b[1;33m     \u001b[1;32mraise\u001b[0m\u001b[1;33m(\u001b[0m\u001b[0mException\u001b[0m\u001b[1;33m(\u001b[0m\u001b[1;34m'x should be less or equal to 5'\u001b[0m\u001b[1;33m)\u001b[0m\u001b[1;33m)\u001b[0m\u001b[1;33m\u001b[0m\u001b[1;33m\u001b[0m\u001b[0m\n\u001b[0m",
      "\u001b[1;31mException\u001b[0m: x should be less or equal to 5"
     ]
    }
   ],
   "source": [
    "x = 10\n",
    "\n",
    "if x > 5:\n",
    "    raise(Exception('x should be less or equal to 5'))"
   ]
  },
  {
   "cell_type": "code",
   "execution_count": null,
   "id": "b4fbff0a",
   "metadata": {},
   "outputs": [],
   "source": []
  }
 ],
 "metadata": {
  "kernelspec": {
   "display_name": "Python 3 (ipykernel)",
   "language": "python",
   "name": "python3"
  },
  "language_info": {
   "codemirror_mode": {
    "name": "ipython",
    "version": 3
   },
   "file_extension": ".py",
   "mimetype": "text/x-python",
   "name": "python",
   "nbconvert_exporter": "python",
   "pygments_lexer": "ipython3",
   "version": "3.9.13"
  }
 },
 "nbformat": 4,
 "nbformat_minor": 5
}
