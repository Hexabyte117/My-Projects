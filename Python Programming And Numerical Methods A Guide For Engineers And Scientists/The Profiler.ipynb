{
 "cells": [
  {
   "cell_type": "code",
   "execution_count": 1,
   "id": "84bb7064",
   "metadata": {},
   "outputs": [
    {
     "name": "stdout",
     "output_type": "stream",
     "text": [
      "Wall time: 0 ns\n"
     ]
    },
    {
     "data": {
      "text/plain": [
       "19900"
      ]
     },
     "execution_count": 1,
     "metadata": {},
     "output_type": "execute_result"
    }
   ],
   "source": [
    "%time sum(range(200))\n"
   ]
  },
  {
   "cell_type": "code",
   "execution_count": 2,
   "id": "ab72894f",
   "metadata": {},
   "outputs": [
    {
     "name": "stdout",
     "output_type": "stream",
     "text": [
      "1.8 µs ± 348 ns per loop (mean ± std. dev. of 7 runs, 100000 loops each)\n"
     ]
    }
   ],
   "source": [
    "%timeit sum(range(200))"
   ]
  },
  {
   "cell_type": "code",
   "execution_count": 3,
   "id": "b81b652d",
   "metadata": {},
   "outputs": [
    {
     "name": "stdout",
     "output_type": "stream",
     "text": [
      "Wall time: 0 ns\n"
     ]
    }
   ],
   "source": [
    "%%time\n",
    "s = 0\n",
    "for i in range(200):\n",
    "    s += i"
   ]
  },
  {
   "cell_type": "code",
   "execution_count": 4,
   "id": "701b2bb5",
   "metadata": {},
   "outputs": [
    {
     "name": "stdout",
     "output_type": "stream",
     "text": [
      "6.92 µs ± 700 ns per loop (mean ± std. dev. of 7 runs, 100000 loops each)\n"
     ]
    }
   ],
   "source": [
    "%%timeit\n",
    "s = 0\n",
    "for i in range(200):\n",
    "    s += i"
   ]
  },
  {
   "cell_type": "code",
   "execution_count": 5,
   "id": "4226adae",
   "metadata": {},
   "outputs": [],
   "source": [
    "import numpy as np"
   ]
  },
  {
   "cell_type": "code",
   "execution_count": 6,
   "id": "9308402c",
   "metadata": {},
   "outputs": [],
   "source": [
    "def slow_sum(n, m):\n",
    "\n",
    "    for i in range(n):\n",
    "        # we create a size m array of random numbers\n",
    "        a = np.random.rand(m)\n",
    "\n",
    "        s = 0\n",
    "        # in this loop we iterate through the array\n",
    "        # and add elements to the sum one by one\n",
    "        for j in range(m):\n",
    "            s += a[j]   "
   ]
  },
  {
   "cell_type": "code",
   "execution_count": 7,
   "id": "359a4ea7",
   "metadata": {},
   "outputs": [
    {
     "name": "stdout",
     "output_type": "stream",
     "text": [
      " "
     ]
    }
   ],
   "source": [
    "%prun slow_sum(1000, 10000)\n"
   ]
  },
  {
   "cell_type": "code",
   "execution_count": null,
   "id": "43fe4eef",
   "metadata": {},
   "outputs": [],
   "source": [
    "# Note, you only need run this once. \n",
    "!conda install line_profiler"
   ]
  },
  {
   "cell_type": "code",
   "execution_count": null,
   "id": "c737c810",
   "metadata": {},
   "outputs": [],
   "source": [
    "%load_ext line_profiler"
   ]
  },
  {
   "cell_type": "code",
   "execution_count": null,
   "id": "458eaefa",
   "metadata": {},
   "outputs": [],
   "source": [
    "%lprun -f slow_sum slow_sum(1000, 10000)"
   ]
  },
  {
   "cell_type": "code",
   "execution_count": null,
   "id": "1917dd53",
   "metadata": {},
   "outputs": [],
   "source": []
  }
 ],
 "metadata": {
  "kernelspec": {
   "display_name": "Python 3 (ipykernel)",
   "language": "python",
   "name": "python3"
  },
  "language_info": {
   "codemirror_mode": {
    "name": "ipython",
    "version": 3
   },
   "file_extension": ".py",
   "mimetype": "text/x-python",
   "name": "python",
   "nbconvert_exporter": "python",
   "pygments_lexer": "ipython3",
   "version": "3.9.13"
  }
 },
 "nbformat": 4,
 "nbformat_minor": 5
}
