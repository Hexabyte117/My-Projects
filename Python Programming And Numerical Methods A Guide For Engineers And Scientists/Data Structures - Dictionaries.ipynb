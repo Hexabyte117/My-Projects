{
 "cells": [
  {
   "cell_type": "code",
   "execution_count": 1,
   "id": "8e255b28-b8f8-4437-8115-b3588eb0f89b",
   "metadata": {},
   "outputs": [
    {
     "data": {
      "text/plain": [
       "{'apple': 3, 'oragne': 4, 'pear': 2}"
      ]
     },
     "execution_count": 1,
     "metadata": {},
     "output_type": "execute_result"
    }
   ],
   "source": [
    "dict_1 = {'apple':3, 'oragne':4, 'pear':2}\n",
    "dict_1"
   ]
  },
  {
   "cell_type": "code",
   "execution_count": 2,
   "id": "4c31982e-3ee3-441d-8395-b7554be0e95f",
   "metadata": {},
   "outputs": [
    {
     "data": {
      "text/plain": [
       "3"
      ]
     },
     "execution_count": 2,
     "metadata": {},
     "output_type": "execute_result"
    }
   ],
   "source": [
    "dict_1['apple']"
   ]
  },
  {
   "cell_type": "code",
   "execution_count": 3,
   "id": "a3f2acb5-721a-48a4-a922-d4fbe56b55fb",
   "metadata": {},
   "outputs": [
    {
     "data": {
      "text/plain": [
       "dict_keys(['apple', 'oragne', 'pear'])"
      ]
     },
     "execution_count": 3,
     "metadata": {},
     "output_type": "execute_result"
    }
   ],
   "source": [
    "dict_1.keys()"
   ]
  },
  {
   "cell_type": "code",
   "execution_count": 4,
   "id": "3d4212ce-e4e0-4d48-9ecd-f451f59434c7",
   "metadata": {},
   "outputs": [
    {
     "data": {
      "text/plain": [
       "dict_values([3, 4, 2])"
      ]
     },
     "execution_count": 4,
     "metadata": {},
     "output_type": "execute_result"
    }
   ],
   "source": [
    "dict_1.values()"
   ]
  },
  {
   "cell_type": "code",
   "execution_count": 5,
   "id": "256d99f0-744b-4fb3-8f0a-1a7b93e1044c",
   "metadata": {},
   "outputs": [
    {
     "data": {
      "text/plain": [
       "3"
      ]
     },
     "execution_count": 5,
     "metadata": {},
     "output_type": "execute_result"
    }
   ],
   "source": [
    "len(dict_1)"
   ]
  },
  {
   "cell_type": "code",
   "execution_count": 6,
   "id": "08b8d1d2-d2a4-4fc3-b811-5829b93c6ef6",
   "metadata": {},
   "outputs": [
    {
     "data": {
      "text/plain": [
       "{'UC Berkeley': 'USA'}"
      ]
     },
     "execution_count": 6,
     "metadata": {},
     "output_type": "execute_result"
    }
   ],
   "source": [
    "school_dict = {}\n",
    "school_dict['UC Berkeley'] = 'USA'\n",
    "school_dict"
   ]
  },
  {
   "cell_type": "code",
   "execution_count": 7,
   "id": "27fefb76-6bc2-432e-95d6-8f7d26392329",
   "metadata": {},
   "outputs": [
    {
     "data": {
      "text/plain": [
       "{'UC Berkeley': 'USA', 'Oxford': 'UK'}"
      ]
     },
     "execution_count": 7,
     "metadata": {},
     "output_type": "execute_result"
    }
   ],
   "source": [
    "school_dict['Oxford'] = 'UK'\n",
    "school_dict"
   ]
  },
  {
   "cell_type": "code",
   "execution_count": 8,
   "id": "2039a7c5-3625-48c6-9d38-8300f7201d21",
   "metadata": {},
   "outputs": [
    {
     "data": {
      "text/plain": [
       "{'UC Berkeley': 'USA', 'Oxford': 'UK'}"
      ]
     },
     "execution_count": 8,
     "metadata": {},
     "output_type": "execute_result"
    }
   ],
   "source": [
    "dict([(\"UC Berkeley\", \"USA\"), ('Oxford', 'UK')])"
   ]
  },
  {
   "cell_type": "code",
   "execution_count": 9,
   "id": "03a9fa5e-1aad-4bb3-b0f4-c8a9ad74e42a",
   "metadata": {},
   "outputs": [
    {
     "data": {
      "text/plain": [
       "True"
      ]
     },
     "execution_count": 9,
     "metadata": {},
     "output_type": "execute_result"
    }
   ],
   "source": [
    "\"UC Berkeley\" in school_dict"
   ]
  },
  {
   "cell_type": "code",
   "execution_count": 10,
   "id": "f4ff05f9-b026-456f-a952-f7734ad59af7",
   "metadata": {},
   "outputs": [
    {
     "data": {
      "text/plain": [
       "True"
      ]
     },
     "execution_count": 10,
     "metadata": {},
     "output_type": "execute_result"
    }
   ],
   "source": [
    "\"Harvard\" not in school_dict"
   ]
  },
  {
   "cell_type": "code",
   "execution_count": 11,
   "id": "265b75c7-894c-4b78-8ec3-7970c757f09a",
   "metadata": {},
   "outputs": [
    {
     "data": {
      "text/plain": [
       "['UC Berkeley', 'Oxford']"
      ]
     },
     "execution_count": 11,
     "metadata": {},
     "output_type": "execute_result"
    }
   ],
   "source": [
    "list(school_dict)"
   ]
  },
  {
   "cell_type": "code",
   "execution_count": null,
   "id": "b0add41c-9ccb-4edb-adf1-fce837b0cb7a",
   "metadata": {},
   "outputs": [],
   "source": []
  }
 ],
 "metadata": {
  "kernelspec": {
   "display_name": "Python 3 (ipykernel)",
   "language": "python",
   "name": "python3"
  },
  "language_info": {
   "codemirror_mode": {
    "name": "ipython",
    "version": 3
   },
   "file_extension": ".py",
   "mimetype": "text/x-python",
   "name": "python",
   "nbconvert_exporter": "python",
   "pygments_lexer": "ipython3",
   "version": "3.9.13"
  }
 },
 "nbformat": 4,
 "nbformat_minor": 5
}
