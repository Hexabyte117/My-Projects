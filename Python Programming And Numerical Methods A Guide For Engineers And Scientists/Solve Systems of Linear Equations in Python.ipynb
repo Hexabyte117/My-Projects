{
 "cells": [
  {
   "cell_type": "code",
   "execution_count": 1,
   "id": "03ab35d3",
   "metadata": {},
   "outputs": [
    {
     "name": "stdout",
     "output_type": "stream",
     "text": [
      "[ 2.20833333 -2.58333333 -0.18333333]\n"
     ]
    }
   ],
   "source": [
    "import numpy as np\n",
    "\n",
    "A = np.array([[4, 3, -5], \n",
    "              [-2, -4, 5], \n",
    "              [8, 8, 0]])\n",
    "y = np.array([2, 5, -3])\n",
    "\n",
    "x = np.linalg.solve(A, y)\n",
    "print(x)"
   ]
  },
  {
   "cell_type": "code",
   "execution_count": 2,
   "id": "42f89c38",
   "metadata": {},
   "outputs": [
    {
     "name": "stdout",
     "output_type": "stream",
     "text": [
      "[ 2.20833333 -2.58333333 -0.18333333]\n"
     ]
    }
   ],
   "source": [
    "A_inv = np.linalg.inv(A)\n",
    "\n",
    "x = np.dot(A_inv, y)\n",
    "print(x)"
   ]
  },
  {
   "cell_type": "code",
   "execution_count": 3,
   "id": "3eb06da3",
   "metadata": {},
   "outputs": [
    {
     "name": "stdout",
     "output_type": "stream",
     "text": [
      "P:\n",
      " [[0. 0. 1.]\n",
      " [0. 1. 0.]\n",
      " [1. 0. 0.]]\n",
      "L:\n",
      " [[ 1.    0.    0.  ]\n",
      " [-0.25  1.    0.  ]\n",
      " [ 0.5   0.5   1.  ]]\n",
      "U:\n",
      " [[ 8.   8.   0. ]\n",
      " [ 0.  -2.   5. ]\n",
      " [ 0.   0.  -7.5]]\n",
      "LU:\n",
      " [[ 8.  8.  0.]\n",
      " [-2. -4.  5.]\n",
      " [ 4.  3. -5.]]\n"
     ]
    }
   ],
   "source": [
    "from scipy.linalg import lu\n",
    "\n",
    "P, L, U = lu(A)\n",
    "print('P:\\n', P)\n",
    "print('L:\\n', L)\n",
    "print('U:\\n', U)\n",
    "print('LU:\\n',np.dot(L, U))"
   ]
  },
  {
   "cell_type": "code",
   "execution_count": 4,
   "id": "915411d5",
   "metadata": {},
   "outputs": [
    {
     "name": "stdout",
     "output_type": "stream",
     "text": [
      "[[ 8.  8.  0.]\n",
      " [-2. -4.  5.]\n",
      " [ 4.  3. -5.]]\n"
     ]
    }
   ],
   "source": [
    "print(np.dot(P, A))"
   ]
  },
  {
   "cell_type": "code",
   "execution_count": null,
   "id": "f218033a",
   "metadata": {},
   "outputs": [],
   "source": []
  }
 ],
 "metadata": {
  "kernelspec": {
   "display_name": "Python 3 (ipykernel)",
   "language": "python",
   "name": "python3"
  },
  "language_info": {
   "codemirror_mode": {
    "name": "ipython",
    "version": 3
   },
   "file_extension": ".py",
   "mimetype": "text/x-python",
   "name": "python",
   "nbconvert_exporter": "python",
   "pygments_lexer": "ipython3",
   "version": "3.9.13"
  }
 },
 "nbformat": 4,
 "nbformat_minor": 5
}
