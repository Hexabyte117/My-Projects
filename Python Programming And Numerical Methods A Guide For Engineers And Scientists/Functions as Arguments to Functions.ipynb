{
 "cells": [
  {
   "cell_type": "code",
   "execution_count": 1,
   "id": "056936d4",
   "metadata": {},
   "outputs": [
    {
     "name": "stdout",
     "output_type": "stream",
     "text": [
      "<class 'builtin_function_or_method'>\n"
     ]
    }
   ],
   "source": [
    "f = max\n",
    "print(type(f))"
   ]
  },
  {
   "cell_type": "code",
   "execution_count": 2,
   "id": "87a83ad3",
   "metadata": {},
   "outputs": [
    {
     "name": "stdout",
     "output_type": "stream",
     "text": [
      "5\n",
      "5\n"
     ]
    }
   ],
   "source": [
    "print(f([2, 3, 5]))\n",
    "print(max([2, 3, 5]))"
   ]
  },
  {
   "cell_type": "code",
   "execution_count": 3,
   "id": "c69598c7",
   "metadata": {},
   "outputs": [
    {
     "name": "stdout",
     "output_type": "stream",
     "text": [
      "2.0\n",
      "1.0\n",
      "6.0\n"
     ]
    }
   ],
   "source": [
    "import numpy as np \n",
    "\n",
    "def my_fun_plus_one(f, x):\n",
    "    return f(x) + 1\n",
    "\n",
    "print(my_fun_plus_one(np.sin, np.pi/2))\n",
    "print(my_fun_plus_one(np.cos, np.pi/2))\n",
    "print(my_fun_plus_one(np.sqrt, 25))"
   ]
  },
  {
   "cell_type": "code",
   "execution_count": 4,
   "id": "71237acd",
   "metadata": {},
   "outputs": [
    {
     "name": "stdout",
     "output_type": "stream",
     "text": [
      "5\n"
     ]
    }
   ],
   "source": [
    "print(my_fun_plus_one(lambda x: x + 2, 2))"
   ]
  },
  {
   "cell_type": "code",
   "execution_count": null,
   "id": "019f5889",
   "metadata": {},
   "outputs": [],
   "source": []
  }
 ],
 "metadata": {
  "kernelspec": {
   "display_name": "Python 3 (ipykernel)",
   "language": "python",
   "name": "python3"
  },
  "language_info": {
   "codemirror_mode": {
    "name": "ipython",
    "version": 3
   },
   "file_extension": ".py",
   "mimetype": "text/x-python",
   "name": "python",
   "nbconvert_exporter": "python",
   "pygments_lexer": "ipython3",
   "version": "3.9.13"
  }
 },
 "nbformat": 4,
 "nbformat_minor": 5
}
