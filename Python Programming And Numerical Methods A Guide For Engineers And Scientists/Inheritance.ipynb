{
 "cells": [
  {
   "cell_type": "code",
   "execution_count": 1,
   "id": "b16af817",
   "metadata": {},
   "outputs": [],
   "source": [
    "class Sensor():\n",
    "    def __init__(self, name, location, record_date):\n",
    "        self.name = name\n",
    "        self.location = location\n",
    "        self.record_date = record_date\n",
    "        self.data = {}\n",
    "        \n",
    "    def add_data(self, t, data):\n",
    "        self.data['time'] = t\n",
    "        self.data['data'] = data\n",
    "        print(f'We have {len(data)} points saved')        \n",
    "        \n",
    "    def clear_data(self):\n",
    "        self.data = {}\n",
    "        print('Data cleared!')"
   ]
  },
  {
   "cell_type": "code",
   "execution_count": 2,
   "id": "d67cfe80",
   "metadata": {},
   "outputs": [
    {
     "name": "stdout",
     "output_type": "stream",
     "text": [
      "We have 10 points saved\n"
     ]
    },
    {
     "data": {
      "text/plain": [
       "{'time': array([0, 1, 2, 3, 4, 5, 6, 7, 8, 9]),\n",
       " 'data': array([ -6,   0, -10,   4,  -5,  -3,  -7,  -8,   9,   4])}"
      ]
     },
     "execution_count": 2,
     "metadata": {},
     "output_type": "execute_result"
    }
   ],
   "source": [
    "import numpy as np\n",
    "\n",
    "sensor1 = Sensor('sensor1', 'Berkeley', '2019-01-01')\n",
    "data = np.random.randint(-10, 10, 10)\n",
    "sensor1.add_data(np.arange(10), data)\n",
    "sensor1.data"
   ]
  },
  {
   "cell_type": "code",
   "execution_count": 3,
   "id": "b06a6f90",
   "metadata": {},
   "outputs": [
    {
     "name": "stdout",
     "output_type": "stream",
     "text": [
      "I am an accelerometer!\n",
      "We have 10 points saved\n"
     ]
    },
    {
     "data": {
      "text/plain": [
       "{'time': array([0, 1, 2, 3, 4, 5, 6, 7, 8, 9]),\n",
       " 'data': array([-10,   4,  -8,   6,   1,   6,  -6,   7,   8,   6])}"
      ]
     },
     "execution_count": 3,
     "metadata": {},
     "output_type": "execute_result"
    }
   ],
   "source": [
    "class Accelerometer(Sensor):\n",
    "    \n",
    "    def show_type(self):\n",
    "        print('I am an accelerometer!')\n",
    "        \n",
    "acc = Accelerometer('acc1', 'Oakland', '2019-02-01')\n",
    "acc.show_type()\n",
    "data = np.random.randint(-10, 10, 10)\n",
    "acc.add_data(np.arange(10), data)\n",
    "acc.data"
   ]
  },
  {
   "cell_type": "code",
   "execution_count": 4,
   "id": "d9a873ba",
   "metadata": {},
   "outputs": [
    {
     "name": "stdout",
     "output_type": "stream",
     "text": [
      "I am UCBAcc, created at UC Berkeley!\n"
     ]
    }
   ],
   "source": [
    "class UCBAcc(Accelerometer):\n",
    "    \n",
    "    def show_type(self):\n",
    "        print(f'I am {self.name}, created at UC Berkeley!')\n",
    "        \n",
    "acc_ucb = UCBAcc('UCBAcc', 'Berkeley', '2019-03-01')\n",
    "acc_ucb.show_type()"
   ]
  },
  {
   "cell_type": "code",
   "execution_count": 5,
   "id": "bde0e1a6",
   "metadata": {},
   "outputs": [
    {
     "data": {
      "text/plain": [
       "'XYZ'"
      ]
     },
     "execution_count": 5,
     "metadata": {},
     "output_type": "execute_result"
    }
   ],
   "source": [
    "class NewSensor(Sensor):\n",
    "    def __init__(self, name, location, record_date, brand):\n",
    "        self.name = name\n",
    "        self.location = location\n",
    "        self.record_date = record_date\n",
    "        self.brand = brand\n",
    "        self.data = {}\n",
    "        \n",
    "new_sensor = NewSensor('OK', 'SF', '2019-03-01', 'XYZ')\n",
    "new_sensor.brand"
   ]
  },
  {
   "cell_type": "code",
   "execution_count": 6,
   "id": "6407ea3c",
   "metadata": {},
   "outputs": [
    {
     "data": {
      "text/plain": [
       "'XYZ'"
      ]
     },
     "execution_count": 6,
     "metadata": {},
     "output_type": "execute_result"
    }
   ],
   "source": [
    "class NewSensor(Sensor):\n",
    "    def __init__(self, name, location, record_date, brand):\n",
    "        super().__init__(name, location, record_date)\n",
    "        self.brand = brand\n",
    "        \n",
    "new_sensor = NewSensor('OK', 'SF', '2019-03-01', 'XYZ')\n",
    "new_sensor.brand"
   ]
  },
  {
   "cell_type": "code",
   "execution_count": 7,
   "id": "fec25935",
   "metadata": {},
   "outputs": [],
   "source": [
    "class Sensor():\n",
    "    def __init__(self, name, location):\n",
    "        self.name = name\n",
    "        self._location = location\n",
    "        self.__version = '1.0'\n",
    "    \n",
    "    # a getter function\n",
    "    def get_version(self):\n",
    "        print(f'The sensor version is {self.__version}')\n",
    "    \n",
    "    # a setter function\n",
    "    def set_version(self, version):\n",
    "        self.__version = version"
   ]
  },
  {
   "cell_type": "code",
   "execution_count": 8,
   "id": "24d0777a",
   "metadata": {},
   "outputs": [
    {
     "name": "stdout",
     "output_type": "stream",
     "text": [
      "Acc\n",
      "Berkeley\n"
     ]
    },
    {
     "ename": "AttributeError",
     "evalue": "'Sensor' object has no attribute '__version'",
     "output_type": "error",
     "traceback": [
      "\u001b[1;31m---------------------------------------------------------------------------\u001b[0m",
      "\u001b[1;31mAttributeError\u001b[0m                            Traceback (most recent call last)",
      "\u001b[1;32m~\\AppData\\Local\\Temp\\ipykernel_24380\\1036624177.py\u001b[0m in \u001b[0;36m<module>\u001b[1;34m\u001b[0m\n\u001b[0;32m      2\u001b[0m \u001b[0mprint\u001b[0m\u001b[1;33m(\u001b[0m\u001b[0msensor1\u001b[0m\u001b[1;33m.\u001b[0m\u001b[0mname\u001b[0m\u001b[1;33m)\u001b[0m\u001b[1;33m\u001b[0m\u001b[1;33m\u001b[0m\u001b[0m\n\u001b[0;32m      3\u001b[0m \u001b[0mprint\u001b[0m\u001b[1;33m(\u001b[0m\u001b[0msensor1\u001b[0m\u001b[1;33m.\u001b[0m\u001b[0m_location\u001b[0m\u001b[1;33m)\u001b[0m\u001b[1;33m\u001b[0m\u001b[1;33m\u001b[0m\u001b[0m\n\u001b[1;32m----> 4\u001b[1;33m \u001b[0mprint\u001b[0m\u001b[1;33m(\u001b[0m\u001b[0msensor1\u001b[0m\u001b[1;33m.\u001b[0m\u001b[0m__version\u001b[0m\u001b[1;33m)\u001b[0m\u001b[1;33m\u001b[0m\u001b[1;33m\u001b[0m\u001b[0m\n\u001b[0m",
      "\u001b[1;31mAttributeError\u001b[0m: 'Sensor' object has no attribute '__version'"
     ]
    }
   ],
   "source": [
    "sensor1 = Sensor('Acc', 'Berkeley')\n",
    "print(sensor1.name)\n",
    "print(sensor1._location)\n",
    "print(sensor1.__version)"
   ]
  },
  {
   "cell_type": "code",
   "execution_count": 9,
   "id": "825dc924",
   "metadata": {},
   "outputs": [
    {
     "name": "stdout",
     "output_type": "stream",
     "text": [
      "The sensor version is 1.0\n"
     ]
    }
   ],
   "source": [
    "sensor1.get_version()\n"
   ]
  },
  {
   "cell_type": "code",
   "execution_count": 11,
   "id": "3275c6e9",
   "metadata": {},
   "outputs": [
    {
     "name": "stdout",
     "output_type": "stream",
     "text": [
      "The sensor version is 2.0\n"
     ]
    }
   ],
   "source": [
    "sensor1.set_version('2.0')\n",
    "sensor1.get_version()"
   ]
  },
  {
   "cell_type": "code",
   "execution_count": null,
   "id": "60ce42ff",
   "metadata": {},
   "outputs": [],
   "source": []
  }
 ],
 "metadata": {
  "kernelspec": {
   "display_name": "Python 3 (ipykernel)",
   "language": "python",
   "name": "python3"
  },
  "language_info": {
   "codemirror_mode": {
    "name": "ipython",
    "version": 3
   },
   "file_extension": ".py",
   "mimetype": "text/x-python",
   "name": "python",
   "nbconvert_exporter": "python",
   "pygments_lexer": "ipython3",
   "version": "3.9.13"
  }
 },
 "nbformat": 4,
 "nbformat_minor": 5
}
