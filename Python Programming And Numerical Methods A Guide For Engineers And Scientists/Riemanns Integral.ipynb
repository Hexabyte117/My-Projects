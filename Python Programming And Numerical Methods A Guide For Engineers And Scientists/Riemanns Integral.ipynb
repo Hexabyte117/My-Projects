{
 "cells": [
  {
   "cell_type": "code",
   "execution_count": 1,
   "id": "bc37d729",
   "metadata": {},
   "outputs": [
    {
     "name": "stdout",
     "output_type": "stream",
     "text": [
      "1.9835235375094546\n",
      "0.01647646249054535\n",
      "1.9835235375094546\n",
      "0.01647646249054535\n",
      "2.0082484079079745\n",
      "-0.008248407907974542\n"
     ]
    }
   ],
   "source": [
    "import numpy as np\n",
    "\n",
    "a = 0\n",
    "b = np.pi\n",
    "n = 11\n",
    "h = (b - a) / (n - 1)\n",
    "x = np.linspace(a, b, n)\n",
    "f = np.sin(x)\n",
    "\n",
    "I_riemannL = h * sum(f[:n-1])\n",
    "err_riemannL = 2 - I_riemannL\n",
    "\n",
    "I_riemannR = h * sum(f[1::])\n",
    "err_riemannR = 2 - I_riemannR\n",
    "\n",
    "I_mid = h * sum(np.sin((x[:n-1] \\\n",
    "        + x[1:])/2))\n",
    "err_mid = 2 - I_mid\n",
    "\n",
    "print(I_riemannL)\n",
    "print(err_riemannL)\n",
    "\n",
    "print(I_riemannR)\n",
    "print(err_riemannR)\n",
    "\n",
    "print(I_mid)\n",
    "print(err_mid)"
   ]
  },
  {
   "cell_type": "code",
   "execution_count": null,
   "id": "013ba7f2",
   "metadata": {},
   "outputs": [],
   "source": []
  }
 ],
 "metadata": {
  "kernelspec": {
   "display_name": "Python 3 (ipykernel)",
   "language": "python",
   "name": "python3"
  },
  "language_info": {
   "codemirror_mode": {
    "name": "ipython",
    "version": 3
   },
   "file_extension": ".py",
   "mimetype": "text/x-python",
   "name": "python",
   "nbconvert_exporter": "python",
   "pygments_lexer": "ipython3",
   "version": "3.9.13"
  }
 },
 "nbformat": 4,
 "nbformat_minor": 5
}
