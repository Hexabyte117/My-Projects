{
 "cells": [
  {
   "cell_type": "code",
   "execution_count": 1,
   "id": "9d67097e-df34-4c7d-8c12-ae3f5a85964f",
   "metadata": {},
   "outputs": [
    {
     "name": "stdout",
     "output_type": "stream",
     "text": [
      "I love Python!\n"
     ]
    }
   ],
   "source": [
    "print(\"I love Python!\")\n"
   ]
  },
  {
   "cell_type": "code",
   "execution_count": 2,
   "id": "eeb944ec-aff3-4f28-82c6-01398d0f5fdd",
   "metadata": {},
   "outputs": [],
   "source": [
    "s = \"S\"\n",
    "w = \"Hello World\""
   ]
  },
  {
   "cell_type": "code",
   "execution_count": 3,
   "id": "2a9a1256-ab72-4f21-8038-6534e79f4739",
   "metadata": {},
   "outputs": [
    {
     "data": {
      "text/plain": [
       "str"
      ]
     },
     "execution_count": 3,
     "metadata": {},
     "output_type": "execute_result"
    }
   ],
   "source": [
    "type(s)\n"
   ]
  },
  {
   "cell_type": "code",
   "execution_count": 4,
   "id": "b185b6dc-3649-4038-8453-a8780d669fde",
   "metadata": {},
   "outputs": [
    {
     "data": {
      "text/plain": [
       "str"
      ]
     },
     "execution_count": 4,
     "metadata": {},
     "output_type": "execute_result"
    }
   ],
   "source": [
    "type(w)\n"
   ]
  },
  {
   "cell_type": "code",
   "execution_count": 5,
   "id": "138bead2-5e1b-4eea-a12b-9a96eec0389c",
   "metadata": {},
   "outputs": [
    {
     "data": {
      "text/plain": [
       "str"
      ]
     },
     "execution_count": 5,
     "metadata": {},
     "output_type": "execute_result"
    }
   ],
   "source": [
    "s = \" \"\n",
    "type(s)"
   ]
  },
  {
   "cell_type": "code",
   "execution_count": 6,
   "id": "9b3fc191-b11e-4b5e-b40f-612f201421bc",
   "metadata": {},
   "outputs": [
    {
     "data": {
      "text/plain": [
       "11"
      ]
     },
     "execution_count": 6,
     "metadata": {},
     "output_type": "execute_result"
    }
   ],
   "source": [
    "len(w)"
   ]
  },
  {
   "cell_type": "code",
   "execution_count": 7,
   "id": "0c65cceb-e3c2-4f98-8e65-b6053a2ac624",
   "metadata": {},
   "outputs": [
    {
     "data": {
      "text/plain": [
       "'W'"
      ]
     },
     "execution_count": 7,
     "metadata": {},
     "output_type": "execute_result"
    }
   ],
   "source": [
    "w[6]"
   ]
  },
  {
   "cell_type": "code",
   "execution_count": 8,
   "id": "2f33a99f-5094-4d2b-8092-9ef5f6401315",
   "metadata": {},
   "outputs": [
    {
     "data": {
      "text/plain": [
       "'World'"
      ]
     },
     "execution_count": 8,
     "metadata": {},
     "output_type": "execute_result"
    }
   ],
   "source": [
    "w[6:11]"
   ]
  },
  {
   "cell_type": "code",
   "execution_count": 9,
   "id": "322e03ef-5690-44db-835f-00f2327c0caf",
   "metadata": {},
   "outputs": [
    {
     "data": {
      "text/plain": [
       "'Hello'"
      ]
     },
     "execution_count": 9,
     "metadata": {},
     "output_type": "execute_result"
    }
   ],
   "source": [
    "w[:5]"
   ]
  },
  {
   "cell_type": "code",
   "execution_count": 10,
   "id": "14ea60f6-a85d-42f4-9a38-15cdbe67c1cd",
   "metadata": {},
   "outputs": [
    {
     "data": {
      "text/plain": [
       "'Wor'"
      ]
     },
     "execution_count": 10,
     "metadata": {},
     "output_type": "execute_result"
    }
   ],
   "source": [
    "w[6:-2]"
   ]
  },
  {
   "cell_type": "code",
   "execution_count": 11,
   "id": "6d538cf0-4f3c-4ea8-ad8b-ec415d2f20fa",
   "metadata": {},
   "outputs": [
    {
     "data": {
      "text/plain": [
       "'HloWrd'"
      ]
     },
     "execution_count": 11,
     "metadata": {},
     "output_type": "execute_result"
    }
   ],
   "source": [
    "w[::2]"
   ]
  },
  {
   "cell_type": "code",
   "execution_count": 12,
   "id": "fe4fe271-a917-4603-828c-585a43528a0a",
   "metadata": {},
   "outputs": [
    {
     "ename": "SyntaxError",
     "evalue": "invalid syntax (425102638.py, line 1)",
     "output_type": "error",
     "traceback": [
      "\u001b[1;36m  File \u001b[1;32m\"C:\\Users\\629078\\AppData\\Local\\Temp\\ipykernel_36948\\425102638.py\"\u001b[1;36m, line \u001b[1;32m1\u001b[0m\n\u001b[1;33m    1 \"+\" 2\u001b[0m\n\u001b[1;37m      ^\u001b[0m\n\u001b[1;31mSyntaxError\u001b[0m\u001b[1;31m:\u001b[0m invalid syntax\n"
     ]
    }
   ],
   "source": [
    "1 \"+\" 2"
   ]
  },
  {
   "cell_type": "code",
   "execution_count": 13,
   "id": "2fedc85b-67a9-47f5-900a-b7415310987d",
   "metadata": {},
   "outputs": [
    {
     "data": {
      "text/plain": [
       "\"don't\""
      ]
     },
     "execution_count": 13,
     "metadata": {},
     "output_type": "execute_result"
    }
   ],
   "source": [
    "'don\\'t'"
   ]
  },
  {
   "cell_type": "code",
   "execution_count": 14,
   "id": "743afde1-57d1-4109-a502-81ead3754bbc",
   "metadata": {},
   "outputs": [
    {
     "name": "stdout",
     "output_type": "stream",
     "text": [
      "I love Python! You too!\n"
     ]
    }
   ],
   "source": [
    "str_a = \"I love Python! \"\n",
    "str_b = \"You too!\"\n",
    "\n",
    "print(str_a + str_b)"
   ]
  },
  {
   "cell_type": "code",
   "execution_count": 15,
   "id": "c88ca9ed-51a0-4042-be29-ae4fc9da5d09",
   "metadata": {},
   "outputs": [
    {
     "ename": "TypeError",
     "evalue": "can only concatenate str (not \"int\") to str",
     "output_type": "error",
     "traceback": [
      "\u001b[1;31m---------------------------------------------------------------------------\u001b[0m",
      "\u001b[1;31mTypeError\u001b[0m                                 Traceback (most recent call last)",
      "\u001b[1;32m~\\AppData\\Local\\Temp\\ipykernel_36948\\3802000181.py\u001b[0m in \u001b[0;36m<module>\u001b[1;34m\u001b[0m\n\u001b[0;32m      1\u001b[0m \u001b[0mx\u001b[0m \u001b[1;33m=\u001b[0m \u001b[1;36m1\u001b[0m\u001b[1;33m\u001b[0m\u001b[1;33m\u001b[0m\u001b[0m\n\u001b[1;32m----> 2\u001b[1;33m \u001b[0mprint\u001b[0m\u001b[1;33m(\u001b[0m\u001b[1;34m\"x = \"\u001b[0m \u001b[1;33m+\u001b[0m \u001b[0mx\u001b[0m\u001b[1;33m)\u001b[0m\u001b[1;33m\u001b[0m\u001b[1;33m\u001b[0m\u001b[0m\n\u001b[0m",
      "\u001b[1;31mTypeError\u001b[0m: can only concatenate str (not \"int\") to str"
     ]
    }
   ],
   "source": [
    "x = 1\n",
    "print(\"x = \" + x)"
   ]
  },
  {
   "cell_type": "code",
   "execution_count": 16,
   "id": "a84d8448-dd8c-43b8-a956-c582aae663cd",
   "metadata": {},
   "outputs": [
    {
     "name": "stdout",
     "output_type": "stream",
     "text": [
      "x = 1\n"
     ]
    }
   ],
   "source": [
    "print(\"x = \" + str(x))\n"
   ]
  },
  {
   "cell_type": "code",
   "execution_count": 17,
   "id": "10b194cb-8a14-4c7f-a6b5-d8f91b5abc9f",
   "metadata": {},
   "outputs": [
    {
     "data": {
      "text/plain": [
       "str"
      ]
     },
     "execution_count": 17,
     "metadata": {},
     "output_type": "execute_result"
    }
   ],
   "source": [
    "type(str(x))\n"
   ]
  },
  {
   "cell_type": "code",
   "execution_count": 18,
   "id": "55d7dcae-3719-48b8-ad26-54b205bb87cc",
   "metadata": {},
   "outputs": [
    {
     "data": {
      "text/plain": [
       "'HELLO WORLD'"
      ]
     },
     "execution_count": 18,
     "metadata": {},
     "output_type": "execute_result"
    }
   ],
   "source": [
    "w.upper()\n"
   ]
  },
  {
   "cell_type": "code",
   "execution_count": 19,
   "id": "d490d501-619a-4164-8fb6-592065cca892",
   "metadata": {},
   "outputs": [
    {
     "data": {
      "text/plain": [
       "3"
      ]
     },
     "execution_count": 19,
     "metadata": {},
     "output_type": "execute_result"
    }
   ],
   "source": [
    "w.count(\"l\")\n"
   ]
  },
  {
   "cell_type": "code",
   "execution_count": 20,
   "id": "81096cf5-bdc2-4ed3-bfba-2c679b3b1641",
   "metadata": {},
   "outputs": [
    {
     "data": {
      "text/plain": [
       "'Hello Berkeley'"
      ]
     },
     "execution_count": 20,
     "metadata": {},
     "output_type": "execute_result"
    }
   ],
   "source": [
    "w.replace(\"World\", \"Berkeley\")\n"
   ]
  },
  {
   "cell_type": "code",
   "execution_count": 21,
   "id": "03950719-0057-49e5-b7ed-9c09c6449a35",
   "metadata": {},
   "outputs": [
    {
     "name": "stdout",
     "output_type": "stream",
     "text": [
      "UC Berkeley is a great school in USA!\n"
     ]
    }
   ],
   "source": [
    "name = \"UC Berkeley\"\n",
    "country = 'USA'\n",
    "\n",
    "print(\"%s is a great school in %s!\"%(name, country))"
   ]
  },
  {
   "cell_type": "code",
   "execution_count": 22,
   "id": "d1b001b6-fc7f-40e6-bc40-74039def6ce9",
   "metadata": {},
   "outputs": [
    {
     "name": "stdout",
     "output_type": "stream",
     "text": [
      "UC Berkeley is a great school in USA.\n"
     ]
    }
   ],
   "source": [
    "print(f\"{name} is a great school in {country}.\")"
   ]
  },
  {
   "cell_type": "code",
   "execution_count": 23,
   "id": "3f093546-7ff0-4d29-9399-220b0138810b",
   "metadata": {},
   "outputs": [
    {
     "name": "stdout",
     "output_type": "stream",
     "text": [
      "12\n"
     ]
    }
   ],
   "source": [
    "print(f\"{3*4}\")"
   ]
  },
  {
   "cell_type": "code",
   "execution_count": null,
   "id": "7784d849-fc19-4afc-8d93-23007ca42c74",
   "metadata": {},
   "outputs": [],
   "source": []
  }
 ],
 "metadata": {
  "kernelspec": {
   "display_name": "Python 3 (ipykernel)",
   "language": "python",
   "name": "python3"
  },
  "language_info": {
   "codemirror_mode": {
    "name": "ipython",
    "version": 3
   },
   "file_extension": ".py",
   "mimetype": "text/x-python",
   "name": "python",
   "nbconvert_exporter": "python",
   "pygments_lexer": "ipython3",
   "version": "3.9.13"
  }
 },
 "nbformat": 4,
 "nbformat_minor": 5
}
