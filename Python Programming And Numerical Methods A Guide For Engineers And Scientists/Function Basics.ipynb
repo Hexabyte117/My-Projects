{
 "cells": [
  {
   "cell_type": "code",
   "execution_count": 1,
   "id": "f52ccdcc-1212-4226-8040-47f61f2c8a60",
   "metadata": {},
   "outputs": [
    {
     "data": {
      "text/plain": [
       "builtin_function_or_method"
      ]
     },
     "execution_count": 1,
     "metadata": {},
     "output_type": "execute_result"
    }
   ],
   "source": [
    "type(len)"
   ]
  },
  {
   "cell_type": "code",
   "execution_count": 2,
   "id": "a95f7785-6f64-4c50-853c-878998a82054",
   "metadata": {},
   "outputs": [
    {
     "data": {
      "text/plain": [
       "function"
      ]
     },
     "execution_count": 2,
     "metadata": {},
     "output_type": "execute_result"
    }
   ],
   "source": [
    "import numpy as np\n",
    "\n",
    "type(np.linspace)"
   ]
  },
  {
   "cell_type": "code",
   "execution_count": 3,
   "id": "b7dea136-4b5e-4647-937a-84a7917cc124",
   "metadata": {},
   "outputs": [],
   "source": [
    "np.linspace?\n"
   ]
  },
  {
   "cell_type": "code",
   "execution_count": 4,
   "id": "2a1a2a7b-da4c-48f5-93e4-be99cfce1fe6",
   "metadata": {},
   "outputs": [
    {
     "ename": "SyntaxError",
     "evalue": "invalid syntax (1748242775.py, line 1)",
     "output_type": "error",
     "traceback": [
      "\u001b[1;36m  File \u001b[1;32m\"C:\\Users\\629078\\AppData\\Local\\Temp\\ipykernel_43984\\1748242775.py\"\u001b[1;36m, line \u001b[1;32m1\u001b[0m\n\u001b[1;33m    def function_name(argument_1, argument_2, ...):\u001b[0m\n\u001b[1;37m                                              ^\u001b[0m\n\u001b[1;31mSyntaxError\u001b[0m\u001b[1;31m:\u001b[0m invalid syntax\n"
     ]
    }
   ],
   "source": [
    "def function_name(argument_1, argument_2, ...):\n",
    "    '''\n",
    "    Descriptive String\n",
    "    '''\n",
    "    # comments about the statements\n",
    "    function_statements \n",
    "    \n",
    "    return output_parameters (optional)"
   ]
  },
  {
   "cell_type": "code",
   "execution_count": 5,
   "id": "de866bed",
   "metadata": {},
   "outputs": [],
   "source": [
    "def my_adder(a, b, c):\n",
    "    \"\"\"\n",
    "    function to sum the 3 numbers\n",
    "    Input: 3 numbers a, b, c\n",
    "    Output: the sum of a, b, and c\n",
    "    author:\n",
    "    date:\n",
    "    \"\"\"\n",
    "    \n",
    "    # this is the summation\n",
    "    out = a + b + c\n",
    "    \n",
    "    return out"
   ]
  },
  {
   "cell_type": "code",
   "execution_count": 6,
   "id": "74a900e9",
   "metadata": {},
   "outputs": [],
   "source": [
    "def abc(a, s2, d):\n",
    "    z = a + s2\n",
    "    z = z + d\n",
    "    x = z\n",
    "    return x"
   ]
  },
  {
   "cell_type": "code",
   "execution_count": 7,
   "id": "7ab1036d",
   "metadata": {},
   "outputs": [
    {
     "data": {
      "text/plain": [
       "6"
      ]
     },
     "execution_count": 7,
     "metadata": {},
     "output_type": "execute_result"
    }
   ],
   "source": [
    "d = my_adder(1, 2, 3)\n",
    "d"
   ]
  },
  {
   "cell_type": "code",
   "execution_count": 8,
   "id": "f76e90e4",
   "metadata": {},
   "outputs": [
    {
     "data": {
      "text/plain": [
       "15"
      ]
     },
     "execution_count": 8,
     "metadata": {},
     "output_type": "execute_result"
    }
   ],
   "source": [
    "d = my_adder(4, 5, 6)\n",
    "d"
   ]
  },
  {
   "cell_type": "code",
   "execution_count": 9,
   "id": "da5b6b4a",
   "metadata": {},
   "outputs": [
    {
     "name": "stdout",
     "output_type": "stream",
     "text": [
      "Help on function my_adder in module __main__:\n",
      "\n",
      "my_adder(a, b, c)\n",
      "    function to sum the 3 numbers\n",
      "    Input: 3 numbers a, b, c\n",
      "    Output: the sum of a, b, and c\n",
      "    author:\n",
      "    date:\n",
      "\n"
     ]
    }
   ],
   "source": [
    "help(my_adder)"
   ]
  },
  {
   "cell_type": "code",
   "execution_count": 10,
   "id": "2eb658f2",
   "metadata": {},
   "outputs": [
    {
     "ename": "TypeError",
     "evalue": "can only concatenate str (not \"int\") to str",
     "output_type": "error",
     "traceback": [
      "\u001b[1;31m---------------------------------------------------------------------------\u001b[0m",
      "\u001b[1;31mTypeError\u001b[0m                                 Traceback (most recent call last)",
      "\u001b[1;32m~\\AppData\\Local\\Temp\\ipykernel_43984\\1787080906.py\u001b[0m in \u001b[0;36m<module>\u001b[1;34m\u001b[0m\n\u001b[1;32m----> 1\u001b[1;33m \u001b[0md\u001b[0m \u001b[1;33m=\u001b[0m \u001b[0mmy_adder\u001b[0m\u001b[1;33m(\u001b[0m\u001b[1;34m'1'\u001b[0m\u001b[1;33m,\u001b[0m \u001b[1;36m2\u001b[0m\u001b[1;33m,\u001b[0m \u001b[1;36m3\u001b[0m\u001b[1;33m)\u001b[0m\u001b[1;33m\u001b[0m\u001b[1;33m\u001b[0m\u001b[0m\n\u001b[0m",
      "\u001b[1;32m~\\AppData\\Local\\Temp\\ipykernel_43984\\2392719975.py\u001b[0m in \u001b[0;36mmy_adder\u001b[1;34m(a, b, c)\u001b[0m\n\u001b[0;32m      9\u001b[0m \u001b[1;33m\u001b[0m\u001b[0m\n\u001b[0;32m     10\u001b[0m     \u001b[1;31m# this is the summation\u001b[0m\u001b[1;33m\u001b[0m\u001b[1;33m\u001b[0m\u001b[0m\n\u001b[1;32m---> 11\u001b[1;33m     \u001b[0mout\u001b[0m \u001b[1;33m=\u001b[0m \u001b[0ma\u001b[0m \u001b[1;33m+\u001b[0m \u001b[0mb\u001b[0m \u001b[1;33m+\u001b[0m \u001b[0mc\u001b[0m\u001b[1;33m\u001b[0m\u001b[1;33m\u001b[0m\u001b[0m\n\u001b[0m\u001b[0;32m     12\u001b[0m \u001b[1;33m\u001b[0m\u001b[0m\n\u001b[0;32m     13\u001b[0m     \u001b[1;32mreturn\u001b[0m \u001b[0mout\u001b[0m\u001b[1;33m\u001b[0m\u001b[1;33m\u001b[0m\u001b[0m\n",
      "\u001b[1;31mTypeError\u001b[0m: can only concatenate str (not \"int\") to str"
     ]
    }
   ],
   "source": [
    "d = my_adder('1', 2, 3)\n"
   ]
  },
  {
   "cell_type": "code",
   "execution_count": 11,
   "id": "43927b38",
   "metadata": {},
   "outputs": [
    {
     "ename": "TypeError",
     "evalue": "unsupported operand type(s) for +: 'int' and 'list'",
     "output_type": "error",
     "traceback": [
      "\u001b[1;31m---------------------------------------------------------------------------\u001b[0m",
      "\u001b[1;31mTypeError\u001b[0m                                 Traceback (most recent call last)",
      "\u001b[1;32m~\\AppData\\Local\\Temp\\ipykernel_43984\\2354890858.py\u001b[0m in \u001b[0;36m<module>\u001b[1;34m\u001b[0m\n\u001b[1;32m----> 1\u001b[1;33m \u001b[0md\u001b[0m \u001b[1;33m=\u001b[0m \u001b[0mmy_adder\u001b[0m\u001b[1;33m(\u001b[0m\u001b[1;36m1\u001b[0m\u001b[1;33m,\u001b[0m \u001b[1;36m2\u001b[0m\u001b[1;33m,\u001b[0m \u001b[1;33m[\u001b[0m\u001b[1;36m2\u001b[0m\u001b[1;33m,\u001b[0m \u001b[1;36m3\u001b[0m\u001b[1;33m]\u001b[0m\u001b[1;33m)\u001b[0m\u001b[1;33m\u001b[0m\u001b[1;33m\u001b[0m\u001b[0m\n\u001b[0m",
      "\u001b[1;32m~\\AppData\\Local\\Temp\\ipykernel_43984\\2392719975.py\u001b[0m in \u001b[0;36mmy_adder\u001b[1;34m(a, b, c)\u001b[0m\n\u001b[0;32m      9\u001b[0m \u001b[1;33m\u001b[0m\u001b[0m\n\u001b[0;32m     10\u001b[0m     \u001b[1;31m# this is the summation\u001b[0m\u001b[1;33m\u001b[0m\u001b[1;33m\u001b[0m\u001b[0m\n\u001b[1;32m---> 11\u001b[1;33m     \u001b[0mout\u001b[0m \u001b[1;33m=\u001b[0m \u001b[0ma\u001b[0m \u001b[1;33m+\u001b[0m \u001b[0mb\u001b[0m \u001b[1;33m+\u001b[0m \u001b[0mc\u001b[0m\u001b[1;33m\u001b[0m\u001b[1;33m\u001b[0m\u001b[0m\n\u001b[0m\u001b[0;32m     12\u001b[0m \u001b[1;33m\u001b[0m\u001b[0m\n\u001b[0;32m     13\u001b[0m     \u001b[1;32mreturn\u001b[0m \u001b[0mout\u001b[0m\u001b[1;33m\u001b[0m\u001b[1;33m\u001b[0m\u001b[0m\n",
      "\u001b[1;31mTypeError\u001b[0m: unsupported operand type(s) for +: 'int' and 'list'"
     ]
    }
   ],
   "source": [
    "d = my_adder(1, 2, [2, 3])"
   ]
  },
  {
   "cell_type": "code",
   "execution_count": 12,
   "id": "16f7465c",
   "metadata": {},
   "outputs": [
    {
     "data": {
      "text/plain": [
       "-1.0"
      ]
     },
     "execution_count": 12,
     "metadata": {},
     "output_type": "execute_result"
    }
   ],
   "source": [
    "d = my_adder(np.sin(np.pi), np.cos(np.pi), np.tan(np.pi))\n",
    "d"
   ]
  },
  {
   "cell_type": "code",
   "execution_count": 13,
   "id": "270983c1",
   "metadata": {},
   "outputs": [
    {
     "data": {
      "text/plain": [
       "21.0"
      ]
     },
     "execution_count": 13,
     "metadata": {},
     "output_type": "execute_result"
    }
   ],
   "source": [
    "d = my_adder(5 + 2, 3 * 4, 12 / 6)\n",
    "d"
   ]
  },
  {
   "cell_type": "code",
   "execution_count": 14,
   "id": "e50028b0",
   "metadata": {},
   "outputs": [
    {
     "data": {
      "text/plain": [
       "21.0"
      ]
     },
     "execution_count": 14,
     "metadata": {},
     "output_type": "execute_result"
    }
   ],
   "source": [
    "d = (5 + 2) + 3 * 4 + 12 / 6\n",
    "d"
   ]
  },
  {
   "cell_type": "code",
   "execution_count": 15,
   "id": "e4ee0599",
   "metadata": {},
   "outputs": [],
   "source": [
    "def my_trig_sum(a, b):\n",
    "    \"\"\"\n",
    "    function to demo return multiple\n",
    "    author\n",
    "    date\n",
    "    \"\"\"\n",
    "    out1 = np.sin(a) + np.cos(b)\n",
    "    out2 = np.sin(b) + np.cos(a)\n",
    "    return out1, out2, [out1, out2]"
   ]
  },
  {
   "cell_type": "code",
   "execution_count": 16,
   "id": "c3508650",
   "metadata": {},
   "outputs": [
    {
     "name": "stdout",
     "output_type": "stream",
     "text": [
      "c =-0.0806950697747637, d=-0.2750268284872752, e=[-0.0806950697747637, -0.2750268284872752]\n"
     ]
    }
   ],
   "source": [
    "c, d, e = my_trig_sum(2, 3)\n",
    "print(f\"c ={c}, d={d}, e={e}\")"
   ]
  },
  {
   "cell_type": "code",
   "execution_count": 17,
   "id": "780e9b32",
   "metadata": {},
   "outputs": [
    {
     "name": "stdout",
     "output_type": "stream",
     "text": [
      "c=(-0.0806950697747637, -0.2750268284872752, [-0.0806950697747637, -0.2750268284872752]), and the returned type is <class 'tuple'>\n"
     ]
    }
   ],
   "source": [
    "c = my_trig_sum(2, 3)\n",
    "print(f\"c={c}, and the returned type is {type(c)}\")"
   ]
  },
  {
   "cell_type": "code",
   "execution_count": 18,
   "id": "635c7df7",
   "metadata": {},
   "outputs": [],
   "source": [
    "def print_hello():\n",
    "    print('Hello')"
   ]
  },
  {
   "cell_type": "code",
   "execution_count": 19,
   "id": "cf6f951b",
   "metadata": {},
   "outputs": [
    {
     "name": "stdout",
     "output_type": "stream",
     "text": [
      "Hello\n"
     ]
    }
   ],
   "source": [
    "print_hello()"
   ]
  },
  {
   "cell_type": "code",
   "execution_count": 20,
   "id": "c8d8ecab",
   "metadata": {},
   "outputs": [],
   "source": [
    "def print_greeting(day = 'Monday', name = 'Qingkai'):\n",
    "    print(f'Greetings, {name}, today is {day}')"
   ]
  },
  {
   "cell_type": "code",
   "execution_count": 21,
   "id": "40c8bfae",
   "metadata": {},
   "outputs": [
    {
     "name": "stdout",
     "output_type": "stream",
     "text": [
      "Greetings, Qingkai, today is Monday\n"
     ]
    }
   ],
   "source": [
    "print_greeting()"
   ]
  },
  {
   "cell_type": "code",
   "execution_count": 22,
   "id": "48341c30",
   "metadata": {},
   "outputs": [
    {
     "name": "stdout",
     "output_type": "stream",
     "text": [
      "Greetings, Timmy, today is Friday\n"
     ]
    }
   ],
   "source": [
    "print_greeting(name = 'Timmy', day = 'Friday')"
   ]
  },
  {
   "cell_type": "code",
   "execution_count": 23,
   "id": "014b7337",
   "metadata": {},
   "outputs": [
    {
     "name": "stdout",
     "output_type": "stream",
     "text": [
      "Greetings, Alex, today is Monday\n"
     ]
    }
   ],
   "source": [
    "print_greeting(name = 'Alex')"
   ]
  },
  {
   "cell_type": "code",
   "execution_count": null,
   "id": "ad5e0906",
   "metadata": {},
   "outputs": [],
   "source": []
  }
 ],
 "metadata": {
  "kernelspec": {
   "display_name": "Python 3 (ipykernel)",
   "language": "python",
   "name": "python3"
  },
  "language_info": {
   "codemirror_mode": {
    "name": "ipython",
    "version": 3
   },
   "file_extension": ".py",
   "mimetype": "text/x-python",
   "name": "python",
   "nbconvert_exporter": "python",
   "pygments_lexer": "ipython3",
   "version": "3.9.13"
  }
 },
 "nbformat": 4,
 "nbformat_minor": 5
}
