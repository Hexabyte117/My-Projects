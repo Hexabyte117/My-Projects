{
 "cells": [
  {
   "cell_type": "code",
   "execution_count": 1,
   "id": "7a046540",
   "metadata": {},
   "outputs": [
    {
     "name": "stdout",
     "output_type": "stream",
     "text": [
      "r = [0.73908513]\n",
      "result= [0.]\n"
     ]
    }
   ],
   "source": [
    "import numpy as np\n",
    "from scipy import optimize\n",
    "\n",
    "f = lambda x: np.cos(x) - x\n",
    "r = optimize.fsolve(f, -2)\n",
    "print(\"r =\", r)\n",
    "\n",
    "# Verify the solution is a root\n",
    "result = f(r)\n",
    "print(\"result=\", result)"
   ]
  },
  {
   "cell_type": "code",
   "execution_count": 2,
   "id": "28acfbeb",
   "metadata": {},
   "outputs": [
    {
     "name": "stdout",
     "output_type": "stream",
     "text": [
      "r = [-3.52047359e+83]\n",
      "result= [-2.84052692e-84]\n",
      "The number of calls to function has reached maxfev = 400.\n"
     ]
    }
   ],
   "source": [
    "f = lambda x: 1/x\n",
    "\n",
    "r, infodict, ier, mesg = optimize.fsolve(f, -2, full_output=True)\n",
    "print(\"r =\", r)\n",
    "\n",
    "result = f(r)\n",
    "print(\"result=\", result)\n",
    "\n",
    "print(mesg)"
   ]
  },
  {
   "cell_type": "code",
   "execution_count": null,
   "id": "a247a551",
   "metadata": {},
   "outputs": [],
   "source": []
  }
 ],
 "metadata": {
  "kernelspec": {
   "display_name": "Python 3 (ipykernel)",
   "language": "python",
   "name": "python3"
  },
  "language_info": {
   "codemirror_mode": {
    "name": "ipython",
    "version": 3
   },
   "file_extension": ".py",
   "mimetype": "text/x-python",
   "name": "python",
   "nbconvert_exporter": "python",
   "pygments_lexer": "ipython3",
   "version": "3.9.13"
  }
 },
 "nbformat": 4,
 "nbformat_minor": 5
}
