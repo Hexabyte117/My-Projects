{
 "cells": [
  {
   "cell_type": "code",
   "execution_count": 1,
   "id": "881900bf",
   "metadata": {},
   "outputs": [],
   "source": [
    "import numpy as np"
   ]
  },
  {
   "cell_type": "code",
   "execution_count": 2,
   "id": "47df848f",
   "metadata": {},
   "outputs": [],
   "source": [
    "data = np.random.random((100,5))"
   ]
  },
  {
   "cell_type": "code",
   "execution_count": 3,
   "id": "82a775a3",
   "metadata": {},
   "outputs": [],
   "source": [
    "np.savetxt('test.csv', data, fmt = '%.2f', delimiter=',', header = 'c1, c2, c3, c4, c5')"
   ]
  },
  {
   "cell_type": "code",
   "execution_count": 4,
   "id": "70714cf0",
   "metadata": {},
   "outputs": [
    {
     "data": {
      "text/plain": [
       "array([[0.68, 0.82, 0.37, 0.95, 0.09],\n",
       "       [0.3 , 0.43, 0.64, 0.56, 0.71],\n",
       "       [0.49, 0.03, 0.21, 0.16, 0.73],\n",
       "       [0.61, 0.45, 0.64, 0.86, 0.32],\n",
       "       [0.7 , 0.44, 0.26, 0.71, 0.48]])"
      ]
     },
     "execution_count": 4,
     "metadata": {},
     "output_type": "execute_result"
    }
   ],
   "source": [
    "my_csv = np.loadtxt('./test.csv', delimiter=',')\n",
    "my_csv[:5, :]"
   ]
  },
  {
   "cell_type": "code",
   "execution_count": null,
   "id": "d3e1e0e0",
   "metadata": {},
   "outputs": [],
   "source": []
  }
 ],
 "metadata": {
  "kernelspec": {
   "display_name": "Python 3 (ipykernel)",
   "language": "python",
   "name": "python3"
  },
  "language_info": {
   "codemirror_mode": {
    "name": "ipython",
    "version": 3
   },
   "file_extension": ".py",
   "mimetype": "text/x-python",
   "name": "python",
   "nbconvert_exporter": "python",
   "pygments_lexer": "ipython3",
   "version": "3.9.13"
  }
 },
 "nbformat": 4,
 "nbformat_minor": 5
}
