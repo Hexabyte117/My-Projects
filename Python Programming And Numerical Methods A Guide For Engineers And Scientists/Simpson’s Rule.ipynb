{
 "cells": [
  {
   "cell_type": "code",
   "execution_count": 1,
   "id": "3a96f53f",
   "metadata": {},
   "outputs": [
    {
     "name": "stdout",
     "output_type": "stream",
     "text": [
      "2.0001095173150043\n",
      "-0.00010951731500430384\n"
     ]
    }
   ],
   "source": [
    "import numpy as np\n",
    "\n",
    "a = 0\n",
    "b = np.pi\n",
    "n = 11\n",
    "h = (b - a) / (n - 1)\n",
    "x = np.linspace(a, b, n)\n",
    "f = np.sin(x)\n",
    "\n",
    "I_simp = (h/3) * (f[0] + 2*sum(f[:n-2:2]) \\\n",
    "            + 4*sum(f[1:n-1:2]) + f[n-1])\n",
    "err_simp = 2 - I_simp\n",
    "\n",
    "print(I_simp)\n",
    "print(err_simp)"
   ]
  },
  {
   "cell_type": "code",
   "execution_count": null,
   "id": "6d232922",
   "metadata": {},
   "outputs": [],
   "source": []
  }
 ],
 "metadata": {
  "kernelspec": {
   "display_name": "Python 3 (ipykernel)",
   "language": "python",
   "name": "python3"
  },
  "language_info": {
   "codemirror_mode": {
    "name": "ipython",
    "version": 3
   },
   "file_extension": ".py",
   "mimetype": "text/x-python",
   "name": "python",
   "nbconvert_exporter": "python",
   "pygments_lexer": "ipython3",
   "version": "3.9.13"
  }
 },
 "nbformat": 4,
 "nbformat_minor": 5
}
