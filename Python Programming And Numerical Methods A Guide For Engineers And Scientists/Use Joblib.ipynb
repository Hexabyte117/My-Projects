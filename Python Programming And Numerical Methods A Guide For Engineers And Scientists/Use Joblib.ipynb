{
 "cells": [
  {
   "cell_type": "code",
   "execution_count": 1,
   "id": "8612c300",
   "metadata": {},
   "outputs": [
    {
     "name": "stdout",
     "output_type": "stream",
     "text": [
      "Requirement already satisfied: joblib in c:\\users\\629078\\anaconda3\\lib\\site-packages (1.1.0)Note: you may need to restart the kernel to use updated packages.\n",
      "\n"
     ]
    }
   ],
   "source": [
    "pip install joblib"
   ]
  },
  {
   "cell_type": "code",
   "execution_count": 2,
   "id": "7594f0b2",
   "metadata": {},
   "outputs": [],
   "source": [
    "from joblib import Parallel, delayed\n",
    "import numpy as np\n",
    "\n",
    "def random_square(seed):\n",
    "    np.random.seed(seed)\n",
    "    random_num = np.random.randint(0, 10)\n",
    "    return random_num**2"
   ]
  },
  {
   "cell_type": "code",
   "execution_count": 3,
   "id": "0c177e83",
   "metadata": {},
   "outputs": [],
   "source": [
    "results = Parallel(n_jobs=8)\\\n",
    "    (delayed(random_square)(i) for i in range(1000000))"
   ]
  },
  {
   "cell_type": "code",
   "execution_count": 4,
   "id": "d78b74cc",
   "metadata": {},
   "outputs": [
    {
     "name": "stderr",
     "output_type": "stream",
     "text": [
      "[Parallel(n_jobs=-1)]: Using backend LokyBackend with 16 concurrent workers.\n",
      "[Parallel(n_jobs=-1)]: Done  18 tasks      | elapsed:    2.4s\n",
      "[Parallel(n_jobs=-1)]: Done 880 tasks      | elapsed:    2.7s\n",
      "[Parallel(n_jobs=-1)]: Done 167920 tasks      | elapsed:    4.3s\n",
      "[Parallel(n_jobs=-1)]: Done 884720 tasks      | elapsed:    7.8s\n",
      "[Parallel(n_jobs=-1)]: Done 1000000 out of 1000000 | elapsed:    8.3s finished\n"
     ]
    }
   ],
   "source": [
    "results = Parallel(n_jobs=-1, verbose=1)\\\n",
    "    (delayed(random_square)(i) for i in range(1000000))"
   ]
  },
  {
   "cell_type": "code",
   "execution_count": null,
   "id": "8e8129b8",
   "metadata": {},
   "outputs": [],
   "source": [
    "results = \\\n",
    "    Parallel(n_jobs=-1, backend='multiprocessing', verbose=1)\\\n",
    "    (delayed(random_square)(i) for i in range(1000000))"
   ]
  },
  {
   "cell_type": "code",
   "execution_count": null,
   "id": "dce5272d",
   "metadata": {},
   "outputs": [],
   "source": []
  }
 ],
 "metadata": {
  "kernelspec": {
   "display_name": "Python 3 (ipykernel)",
   "language": "python",
   "name": "python3"
  },
  "language_info": {
   "codemirror_mode": {
    "name": "ipython",
    "version": 3
   },
   "file_extension": ".py",
   "mimetype": "text/x-python",
   "name": "python",
   "nbconvert_exporter": "python",
   "pygments_lexer": "ipython3",
   "version": "3.9.13"
  }
 },
 "nbformat": 4,
 "nbformat_minor": 5
}
