{
 "cells": [
  {
   "cell_type": "code",
   "execution_count": 1,
   "id": "f4b60859",
   "metadata": {},
   "outputs": [
    {
     "data": {
      "text/plain": [
       "{'school': 'UC Berkeley',\n",
       " 'address': {'city': 'Berkeley', 'state': 'California', 'postal': '94720'},\n",
       " 'list': ['student 1', 'student 2', 'student 3']}"
      ]
     },
     "execution_count": 1,
     "metadata": {},
     "output_type": "execute_result"
    }
   ],
   "source": [
    "{\n",
    "  \"school\": \"UC Berkeley\",\n",
    "  \"address\": {\n",
    "    \"city\": \"Berkeley\", \n",
    "    \"state\": \"California\",\n",
    "    \"postal\": \"94720\"\n",
    "  }, \n",
    "    \n",
    "  \"list\":[\n",
    "      \"student 1\",\n",
    "      \"student 2\",\n",
    "      \"student 3\"\n",
    "      ]\n",
    "}"
   ]
  },
  {
   "cell_type": "code",
   "execution_count": 2,
   "id": "a1683d5d",
   "metadata": {},
   "outputs": [],
   "source": [
    "import json"
   ]
  },
  {
   "cell_type": "code",
   "execution_count": 3,
   "id": "8e3ea2d5",
   "metadata": {},
   "outputs": [],
   "source": [
    "school = {\n",
    "  \"school\": \"UC Berkeley\",\n",
    "  \"address\": {\n",
    "    \"city\": \"Berkeley\", \n",
    "    \"state\": \"California\",\n",
    "    \"postal\": \"94720\"\n",
    "  }, \n",
    "    \n",
    "  \"list\":[\n",
    "      \"student 1\",\n",
    "      \"student 2\",\n",
    "      \"student 3\"\n",
    "      ],\n",
    "    \n",
    "  \"array\":[1, 2, 3]\n",
    "}\n",
    "json.dump(school, open('school.json', 'w'))"
   ]
  },
  {
   "cell_type": "code",
   "execution_count": 4,
   "id": "cff704c9",
   "metadata": {},
   "outputs": [
    {
     "data": {
      "text/plain": [
       "{'school': 'UC Berkeley',\n",
       " 'address': {'city': 'Berkeley', 'state': 'California', 'postal': '94720'},\n",
       " 'list': ['student 1', 'student 2', 'student 3'],\n",
       " 'array': [1, 2, 3]}"
      ]
     },
     "execution_count": 4,
     "metadata": {},
     "output_type": "execute_result"
    }
   ],
   "source": [
    "my_school = json.load(open('./school.json', 'r'))\n",
    "my_school"
   ]
  },
  {
   "cell_type": "code",
   "execution_count": null,
   "id": "71e0ce38",
   "metadata": {},
   "outputs": [],
   "source": []
  }
 ],
 "metadata": {
  "kernelspec": {
   "display_name": "Python 3 (ipykernel)",
   "language": "python",
   "name": "python3"
  },
  "language_info": {
   "codemirror_mode": {
    "name": "ipython",
    "version": 3
   },
   "file_extension": ".py",
   "mimetype": "text/x-python",
   "name": "python",
   "nbconvert_exporter": "python",
   "pygments_lexer": "ipython3",
   "version": "3.9.13"
  }
 },
 "nbformat": 4,
 "nbformat_minor": 5
}
