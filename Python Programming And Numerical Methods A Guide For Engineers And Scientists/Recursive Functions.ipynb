{
 "cells": [
  {
   "cell_type": "code",
   "execution_count": 1,
   "id": "6039a8c1",
   "metadata": {},
   "outputs": [],
   "source": [
    "def factorial(n):\n",
    "    \"\"\"Computes and returns the factorial of n, \n",
    "    a positive integer.\n",
    "    \"\"\"\n",
    "    if n == 1: # Base cases!\n",
    "        return 1\n",
    "    else: # Recursive step\n",
    "        return n * factorial(n - 1) # Recursive call     "
   ]
  },
  {
   "cell_type": "code",
   "execution_count": 2,
   "id": "de1f58de",
   "metadata": {},
   "outputs": [
    {
     "data": {
      "text/plain": [
       "6"
      ]
     },
     "execution_count": 2,
     "metadata": {},
     "output_type": "execute_result"
    }
   ],
   "source": [
    "factorial(3)\n"
   ]
  },
  {
   "cell_type": "code",
   "execution_count": 3,
   "id": "2337ac8d",
   "metadata": {},
   "outputs": [],
   "source": [
    "def fibonacci(n):\n",
    "    \"\"\"Computes and returns the Fibonacci of n, \n",
    "    a postive integer.\n",
    "    \"\"\"\n",
    "    if n == 1: # first base case\n",
    "        return 1\n",
    "    elif n == 2: # second base case\n",
    "        return 1\n",
    "    else: # Recursive step\n",
    "        return fibonacci(n-1) + fibonacci(n-2) # Recursive call "
   ]
  },
  {
   "cell_type": "code",
   "execution_count": 4,
   "id": "43570e3d",
   "metadata": {},
   "outputs": [
    {
     "name": "stdout",
     "output_type": "stream",
     "text": [
      "1\n",
      "1\n",
      "2\n",
      "3\n",
      "5\n"
     ]
    }
   ],
   "source": [
    "print(fibonacci(1))\n",
    "print(fibonacci(2))\n",
    "print(fibonacci(3))\n",
    "print(fibonacci(4))\n",
    "print(fibonacci(5))"
   ]
  },
  {
   "cell_type": "code",
   "execution_count": 5,
   "id": "a39e183f",
   "metadata": {},
   "outputs": [],
   "source": [
    "def fibonacci_display(n):\n",
    "    \"\"\"Computes and returns the Fibonacci of n, \n",
    "    a postive integer.\n",
    "    \"\"\"\n",
    "    if n == 1: # first base case\n",
    "        out = 1\n",
    "        print(out)\n",
    "        return out\n",
    "    elif n == 2: # second base case\n",
    "        out = 1\n",
    "        print(out)\n",
    "        return out\n",
    "    else: # Recursive step\n",
    "        out = fibonacci_display(n-1)+fibonacci_display(n-2)\n",
    "        print(out)\n",
    "        return out # Recursive call "
   ]
  },
  {
   "cell_type": "code",
   "execution_count": 6,
   "id": "9d9b139c",
   "metadata": {},
   "outputs": [
    {
     "name": "stdout",
     "output_type": "stream",
     "text": [
      "1\n",
      "1\n",
      "2\n",
      "1\n",
      "3\n",
      "1\n",
      "1\n",
      "2\n",
      "5\n"
     ]
    },
    {
     "data": {
      "text/plain": [
       "5"
      ]
     },
     "execution_count": 6,
     "metadata": {},
     "output_type": "execute_result"
    }
   ],
   "source": [
    "fibonacci_display(5)\n"
   ]
  },
  {
   "cell_type": "code",
   "execution_count": 7,
   "id": "4367be9b",
   "metadata": {},
   "outputs": [
    {
     "data": {
      "text/plain": [
       "9227465"
      ]
     },
     "execution_count": 7,
     "metadata": {},
     "output_type": "execute_result"
    }
   ],
   "source": [
    "fibonacci(35)"
   ]
  },
  {
   "cell_type": "code",
   "execution_count": 8,
   "id": "bcfc7867",
   "metadata": {},
   "outputs": [],
   "source": [
    "import numpy as np\n",
    "\n",
    "def iter_fib(n):\n",
    "    fib = np.ones(n)\n",
    "    \n",
    "    for i in range(2, n):\n",
    "        fib[i] = fib[i - 1] + fib[i - 2]\n",
    "        \n",
    "    return fib"
   ]
  },
  {
   "cell_type": "code",
   "execution_count": 9,
   "id": "6b9a94ae",
   "metadata": {},
   "outputs": [
    {
     "name": "stdout",
     "output_type": "stream",
     "text": [
      "8.77 µs ± 1.11 µs per loop (mean ± std. dev. of 7 runs, 100000 loops each)\n"
     ]
    }
   ],
   "source": [
    "%timeit iter_fib(25)\n"
   ]
  },
  {
   "cell_type": "code",
   "execution_count": 10,
   "id": "df6a7315",
   "metadata": {},
   "outputs": [
    {
     "name": "stdout",
     "output_type": "stream",
     "text": [
      "24.5 ms ± 1.02 ms per loop (mean ± std. dev. of 7 runs, 100 loops each)\n"
     ]
    }
   ],
   "source": [
    "%timeit fibonacci(25)\n"
   ]
  },
  {
   "cell_type": "code",
   "execution_count": null,
   "id": "a4fb7c0f",
   "metadata": {},
   "outputs": [],
   "source": [
    "factorial(5000)\n"
   ]
  },
  {
   "cell_type": "code",
   "execution_count": null,
   "id": "c03cbf66",
   "metadata": {},
   "outputs": [],
   "source": [
    "import sys\n",
    "sys.setrecursionlimit(10**5)\n",
    "\n",
    "factorial(5000)"
   ]
  },
  {
   "cell_type": "code",
   "execution_count": null,
   "id": "081a74b5",
   "metadata": {},
   "outputs": [],
   "source": []
  }
 ],
 "metadata": {
  "kernelspec": {
   "display_name": "Python 3 (ipykernel)",
   "language": "python",
   "name": "python3"
  },
  "language_info": {
   "codemirror_mode": {
    "name": "ipython",
    "version": 3
   },
   "file_extension": ".py",
   "mimetype": "text/x-python",
   "name": "python",
   "nbconvert_exporter": "python",
   "pygments_lexer": "ipython3",
   "version": "3.9.13"
  }
 },
 "nbformat": 4,
 "nbformat_minor": 5
}
