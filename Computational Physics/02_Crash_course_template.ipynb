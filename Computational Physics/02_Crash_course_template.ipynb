{
 "cells": [
  {
   "cell_type": "markdown",
   "id": "e691d848",
   "metadata": {},
   "source": [
    "# Crash Course for Python 3\n",
    "- Börge Göbel"
   ]
  },
  {
   "cell_type": "markdown",
   "id": "c90d914a",
   "metadata": {},
   "source": [
    "Import numpy"
   ]
  },
  {
   "cell_type": "code",
   "execution_count": 107,
   "id": "d94bfe5c",
   "metadata": {},
   "outputs": [],
   "source": [
    "import numpy as np"
   ]
  },
  {
   "cell_type": "markdown",
   "id": "ff755547",
   "metadata": {},
   "source": [
    "## Basic mathematic operations"
   ]
  },
  {
   "cell_type": "code",
   "execution_count": 108,
   "id": "cb28ade3",
   "metadata": {},
   "outputs": [
    {
     "data": {
      "text/plain": [
       "4"
      ]
     },
     "execution_count": 108,
     "metadata": {},
     "output_type": "execute_result"
    }
   ],
   "source": [
    "2+2 #Addition"
   ]
  },
  {
   "cell_type": "code",
   "execution_count": 109,
   "id": "706001de",
   "metadata": {},
   "outputs": [
    {
     "data": {
      "text/plain": [
       "3"
      ]
     },
     "execution_count": 109,
     "metadata": {},
     "output_type": "execute_result"
    }
   ],
   "source": [
    "8-5 #Subtraction"
   ]
  },
  {
   "cell_type": "code",
   "execution_count": 110,
   "id": "ee8e8473",
   "metadata": {},
   "outputs": [
    {
     "data": {
      "text/plain": [
       "16"
      ]
     },
     "execution_count": 110,
     "metadata": {},
     "output_type": "execute_result"
    }
   ],
   "source": [
    "4*4 #Multiplication"
   ]
  },
  {
   "cell_type": "code",
   "execution_count": 111,
   "id": "4d00b776",
   "metadata": {
    "scrolled": true
   },
   "outputs": [
    {
     "data": {
      "text/plain": [
       "2.5"
      ]
     },
     "execution_count": 111,
     "metadata": {},
     "output_type": "execute_result"
    }
   ],
   "source": [
    "5/2 #Division"
   ]
  },
  {
   "cell_type": "code",
   "execution_count": 112,
   "id": "670f94df",
   "metadata": {},
   "outputs": [
    {
     "data": {
      "text/plain": [
       "2"
      ]
     },
     "execution_count": 112,
     "metadata": {},
     "output_type": "execute_result"
    }
   ],
   "source": [
    "5//2 #Integral division"
   ]
  },
  {
   "cell_type": "code",
   "execution_count": 113,
   "id": "71da8f4e",
   "metadata": {},
   "outputs": [
    {
     "data": {
      "text/plain": [
       "1"
      ]
     },
     "execution_count": 113,
     "metadata": {},
     "output_type": "execute_result"
    }
   ],
   "source": [
    "5%2 #Modulus"
   ]
  },
  {
   "cell_type": "code",
   "execution_count": 114,
   "id": "b75d7b8f",
   "metadata": {},
   "outputs": [
    {
     "data": {
      "text/plain": [
       "9"
      ]
     },
     "execution_count": 114,
     "metadata": {},
     "output_type": "execute_result"
    }
   ],
   "source": [
    "3**2 #Exponent"
   ]
  },
  {
   "cell_type": "code",
   "execution_count": 115,
   "id": "ae937539",
   "metadata": {},
   "outputs": [
    {
     "data": {
      "text/plain": [
       "3.0"
      ]
     },
     "execution_count": 115,
     "metadata": {},
     "output_type": "execute_result"
    }
   ],
   "source": [
    "9**0.5 #sqrt command does not exist. It has to be imported."
   ]
  },
  {
   "cell_type": "code",
   "execution_count": 116,
   "id": "a120579b",
   "metadata": {},
   "outputs": [
    {
     "data": {
      "text/plain": [
       "3.0"
      ]
     },
     "execution_count": 116,
     "metadata": {},
     "output_type": "execute_result"
    }
   ],
   "source": [
    "np.sqrt(9)"
   ]
  },
  {
   "cell_type": "markdown",
   "id": "e6e265fa",
   "metadata": {},
   "source": [
    "Constants"
   ]
  },
  {
   "cell_type": "code",
   "execution_count": 117,
   "id": "3465d3f4",
   "metadata": {},
   "outputs": [
    {
     "data": {
      "text/plain": [
       "3.141592653589793"
      ]
     },
     "execution_count": 117,
     "metadata": {},
     "output_type": "execute_result"
    }
   ],
   "source": [
    "np.pi"
   ]
  },
  {
   "cell_type": "code",
   "execution_count": 118,
   "id": "1019aab3",
   "metadata": {},
   "outputs": [
    {
     "data": {
      "text/plain": [
       "2.718281828459045"
      ]
     },
     "execution_count": 118,
     "metadata": {},
     "output_type": "execute_result"
    }
   ],
   "source": [
    "np.e"
   ]
  },
  {
   "cell_type": "markdown",
   "id": "26ba4432",
   "metadata": {},
   "source": [
    "Define variables"
   ]
  },
  {
   "cell_type": "code",
   "execution_count": 119,
   "id": "11d6e783",
   "metadata": {},
   "outputs": [],
   "source": [
    "a = 3"
   ]
  },
  {
   "cell_type": "code",
   "execution_count": 120,
   "id": "20be76cb",
   "metadata": {},
   "outputs": [
    {
     "data": {
      "text/plain": [
       "7"
      ]
     },
     "execution_count": 120,
     "metadata": {},
     "output_type": "execute_result"
    }
   ],
   "source": [
    "4*a-5"
   ]
  },
  {
   "cell_type": "markdown",
   "id": "4d04a6a5",
   "metadata": {},
   "source": [
    "## Working with different data types"
   ]
  },
  {
   "cell_type": "markdown",
   "id": "683f8b6e",
   "metadata": {},
   "source": [
    "### Numbers (integer, float and complex)"
   ]
  },
  {
   "cell_type": "code",
   "execution_count": 121,
   "id": "7559d4d6",
   "metadata": {},
   "outputs": [
    {
     "data": {
      "text/plain": [
       "5"
      ]
     },
     "execution_count": 121,
     "metadata": {},
     "output_type": "execute_result"
    }
   ],
   "source": [
    "5"
   ]
  },
  {
   "cell_type": "code",
   "execution_count": 122,
   "id": "55d0d1a5",
   "metadata": {},
   "outputs": [
    {
     "data": {
      "text/plain": [
       "5.0"
      ]
     },
     "execution_count": 122,
     "metadata": {},
     "output_type": "execute_result"
    }
   ],
   "source": [
    "5.0"
   ]
  },
  {
   "cell_type": "code",
   "execution_count": 123,
   "id": "52bd4433",
   "metadata": {},
   "outputs": [
    {
     "data": {
      "text/plain": [
       "int"
      ]
     },
     "execution_count": 123,
     "metadata": {},
     "output_type": "execute_result"
    }
   ],
   "source": [
    "type(5)"
   ]
  },
  {
   "cell_type": "code",
   "execution_count": 124,
   "id": "553c21fe",
   "metadata": {},
   "outputs": [
    {
     "data": {
      "text/plain": [
       "float"
      ]
     },
     "execution_count": 124,
     "metadata": {},
     "output_type": "execute_result"
    }
   ],
   "source": [
    "type(5.0)"
   ]
  },
  {
   "cell_type": "markdown",
   "id": "c1582566",
   "metadata": {},
   "source": [
    "There is no need to define the data type. Python does it automatically."
   ]
  },
  {
   "cell_type": "code",
   "execution_count": 125,
   "id": "9acc3a58",
   "metadata": {},
   "outputs": [
    {
     "data": {
      "text/plain": [
       "10.0"
      ]
     },
     "execution_count": 125,
     "metadata": {},
     "output_type": "execute_result"
    }
   ],
   "source": [
    "5+5.0"
   ]
  },
  {
   "cell_type": "markdown",
   "id": "a7aa92f1",
   "metadata": {},
   "source": [
    "but of course it is possible to transform data types"
   ]
  },
  {
   "cell_type": "code",
   "execution_count": 126,
   "id": "4f2ca0c1",
   "metadata": {},
   "outputs": [
    {
     "data": {
      "text/plain": [
       "5.0"
      ]
     },
     "execution_count": 126,
     "metadata": {},
     "output_type": "execute_result"
    }
   ],
   "source": [
    "float(5)"
   ]
  },
  {
   "cell_type": "code",
   "execution_count": 127,
   "id": "2c3ea505",
   "metadata": {},
   "outputs": [
    {
     "data": {
      "text/plain": [
       "5"
      ]
     },
     "execution_count": 127,
     "metadata": {},
     "output_type": "execute_result"
    }
   ],
   "source": [
    "int(5.0)"
   ]
  },
  {
   "cell_type": "code",
   "execution_count": 128,
   "id": "8017d1bb",
   "metadata": {},
   "outputs": [
    {
     "data": {
      "text/plain": [
       "5"
      ]
     },
     "execution_count": 128,
     "metadata": {},
     "output_type": "execute_result"
    }
   ],
   "source": [
    "int(5.9)"
   ]
  },
  {
   "cell_type": "code",
   "execution_count": 129,
   "id": "5e604856",
   "metadata": {},
   "outputs": [
    {
     "data": {
      "text/plain": [
       "6"
      ]
     },
     "execution_count": 129,
     "metadata": {},
     "output_type": "execute_result"
    }
   ],
   "source": [
    "round(5.9)"
   ]
  },
  {
   "cell_type": "markdown",
   "id": "ef199bdb",
   "metadata": {},
   "source": [
    "Complex numbers"
   ]
  },
  {
   "cell_type": "code",
   "execution_count": 130,
   "id": "da788ef1",
   "metadata": {},
   "outputs": [
    {
     "data": {
      "text/plain": [
       "1j"
      ]
     },
     "execution_count": 130,
     "metadata": {},
     "output_type": "execute_result"
    }
   ],
   "source": [
    "1j"
   ]
  },
  {
   "cell_type": "code",
   "execution_count": 131,
   "id": "78fbf462",
   "metadata": {},
   "outputs": [
    {
     "data": {
      "text/plain": [
       "(-1+0j)"
      ]
     },
     "execution_count": 131,
     "metadata": {},
     "output_type": "execute_result"
    }
   ],
   "source": [
    "1j**2"
   ]
  },
  {
   "cell_type": "code",
   "execution_count": 132,
   "id": "354d282a",
   "metadata": {},
   "outputs": [
    {
     "data": {
      "text/plain": [
       "complex"
      ]
     },
     "execution_count": 132,
     "metadata": {},
     "output_type": "execute_result"
    }
   ],
   "source": [
    "type(3+1j)"
   ]
  },
  {
   "cell_type": "code",
   "execution_count": 133,
   "id": "3636475b",
   "metadata": {},
   "outputs": [
    {
     "data": {
      "text/plain": [
       "(-7+11j)"
      ]
     },
     "execution_count": 133,
     "metadata": {},
     "output_type": "execute_result"
    }
   ],
   "source": [
    "(3+5j)*(1+2j)"
   ]
  },
  {
   "cell_type": "markdown",
   "id": "e5c22c89",
   "metadata": {},
   "source": [
    "### Strings"
   ]
  },
  {
   "cell_type": "code",
   "execution_count": 134,
   "id": "84144ad5",
   "metadata": {},
   "outputs": [
    {
     "data": {
      "text/plain": [
       "'Hello'"
      ]
     },
     "execution_count": 134,
     "metadata": {},
     "output_type": "execute_result"
    }
   ],
   "source": [
    "'Hello'"
   ]
  },
  {
   "cell_type": "code",
   "execution_count": 135,
   "id": "d52f87ed",
   "metadata": {},
   "outputs": [
    {
     "data": {
      "text/plain": [
       "'Hello'"
      ]
     },
     "execution_count": 135,
     "metadata": {},
     "output_type": "execute_result"
    }
   ],
   "source": [
    "\"Hello\""
   ]
  },
  {
   "cell_type": "code",
   "execution_count": 136,
   "id": "124cba91",
   "metadata": {},
   "outputs": [
    {
     "data": {
      "text/plain": [
       "\"Let's get started!\""
      ]
     },
     "execution_count": 136,
     "metadata": {},
     "output_type": "execute_result"
    }
   ],
   "source": [
    "\"Let's get started!\""
   ]
  },
  {
   "cell_type": "code",
   "execution_count": 137,
   "id": "e58deecb",
   "metadata": {},
   "outputs": [],
   "source": [
    "string = \"This is a test\""
   ]
  },
  {
   "cell_type": "code",
   "execution_count": 138,
   "id": "d9120518",
   "metadata": {},
   "outputs": [
    {
     "data": {
      "text/plain": [
       "14"
      ]
     },
     "execution_count": 138,
     "metadata": {},
     "output_type": "execute_result"
    }
   ],
   "source": [
    "len(string)"
   ]
  },
  {
   "cell_type": "code",
   "execution_count": 139,
   "id": "1b72b4ce",
   "metadata": {},
   "outputs": [
    {
     "data": {
      "text/plain": [
       "'The answer is: 5.0'"
      ]
     },
     "execution_count": 139,
     "metadata": {},
     "output_type": "execute_result"
    }
   ],
   "source": [
    "\"The answer is: \"+\"5.0\""
   ]
  },
  {
   "cell_type": "code",
   "execution_count": 140,
   "id": "ee251515",
   "metadata": {},
   "outputs": [],
   "source": [
    "a = 5+8"
   ]
  },
  {
   "cell_type": "code",
   "execution_count": 141,
   "id": "f8f77703",
   "metadata": {},
   "outputs": [
    {
     "data": {
      "text/plain": [
       "'The answer is: 13'"
      ]
     },
     "execution_count": 141,
     "metadata": {},
     "output_type": "execute_result"
    }
   ],
   "source": [
    "\"The answer is: \"+str(a)"
   ]
  },
  {
   "cell_type": "markdown",
   "id": "63de019a",
   "metadata": {},
   "source": [
    "## Lists, Arrays & More"
   ]
  },
  {
   "cell_type": "markdown",
   "id": "a42c377b",
   "metadata": {},
   "source": [
    "### Lists"
   ]
  },
  {
   "cell_type": "code",
   "execution_count": 142,
   "id": "f131e6ac",
   "metadata": {},
   "outputs": [],
   "source": [
    "list1 = [1,4,9]\n",
    "list2 = [1,\"a\",3]"
   ]
  },
  {
   "cell_type": "markdown",
   "id": "2b518ba6",
   "metadata": {},
   "source": [
    "Select elements of a list"
   ]
  },
  {
   "cell_type": "code",
   "execution_count": 143,
   "id": "039627e6",
   "metadata": {},
   "outputs": [
    {
     "data": {
      "text/plain": [
       "4"
      ]
     },
     "execution_count": 143,
     "metadata": {},
     "output_type": "execute_result"
    }
   ],
   "source": [
    "list1[1]"
   ]
  },
  {
   "cell_type": "code",
   "execution_count": 144,
   "id": "e55d8392",
   "metadata": {},
   "outputs": [
    {
     "data": {
      "text/plain": [
       "[1, 4, 9]"
      ]
     },
     "execution_count": 144,
     "metadata": {},
     "output_type": "execute_result"
    }
   ],
   "source": [
    "list1[0:4]"
   ]
  },
  {
   "cell_type": "markdown",
   "id": "39712715",
   "metadata": {},
   "source": [
    "Manipulate lists"
   ]
  },
  {
   "cell_type": "code",
   "execution_count": 145,
   "id": "e7767fe3",
   "metadata": {},
   "outputs": [],
   "source": [
    "list1.append(3)"
   ]
  },
  {
   "cell_type": "code",
   "execution_count": 146,
   "id": "b91b5ac3",
   "metadata": {},
   "outputs": [
    {
     "data": {
      "text/plain": [
       "[1, 4, 9, 3]"
      ]
     },
     "execution_count": 146,
     "metadata": {},
     "output_type": "execute_result"
    }
   ],
   "source": [
    "list1"
   ]
  },
  {
   "cell_type": "code",
   "execution_count": 147,
   "id": "1a0c84b8",
   "metadata": {},
   "outputs": [
    {
     "data": {
      "text/plain": [
       "[1, 3]"
      ]
     },
     "execution_count": 147,
     "metadata": {},
     "output_type": "execute_result"
    }
   ],
   "source": [
    "list2.remove(\"a\")\n",
    "list2"
   ]
  },
  {
   "cell_type": "code",
   "execution_count": 148,
   "id": "80d11e7c",
   "metadata": {},
   "outputs": [
    {
     "data": {
      "text/plain": [
       "[1, 3, 4, 9]"
      ]
     },
     "execution_count": 148,
     "metadata": {},
     "output_type": "execute_result"
    }
   ],
   "source": [
    "list1.sort()\n",
    "list1"
   ]
  },
  {
   "cell_type": "code",
   "execution_count": 149,
   "id": "3de56d0e",
   "metadata": {},
   "outputs": [],
   "source": [
    "list1[3]=10"
   ]
  },
  {
   "cell_type": "markdown",
   "id": "3d03440e",
   "metadata": {},
   "source": [
    "Multi-dimensional lists"
   ]
  },
  {
   "cell_type": "code",
   "execution_count": 150,
   "id": "f81ccb08",
   "metadata": {},
   "outputs": [],
   "source": [
    "list3=[[1,2,3],[1,4,9]]"
   ]
  },
  {
   "cell_type": "code",
   "execution_count": 151,
   "id": "ad17374d",
   "metadata": {},
   "outputs": [
    {
     "data": {
      "text/plain": [
       "1"
      ]
     },
     "execution_count": 151,
     "metadata": {},
     "output_type": "execute_result"
    }
   ],
   "source": [
    "list3[1][0]"
   ]
  },
  {
   "cell_type": "markdown",
   "id": "f9f43b0e",
   "metadata": {},
   "source": [
    "Problems"
   ]
  },
  {
   "cell_type": "code",
   "execution_count": 152,
   "id": "454b347e",
   "metadata": {},
   "outputs": [
    {
     "data": {
      "text/plain": [
       "[1, 3, 4, 10]"
      ]
     },
     "execution_count": 152,
     "metadata": {},
     "output_type": "execute_result"
    }
   ],
   "source": [
    "list1"
   ]
  },
  {
   "cell_type": "code",
   "execution_count": 153,
   "id": "f9a6333a",
   "metadata": {},
   "outputs": [
    {
     "data": {
      "text/plain": [
       "[1, 3, 4, 10, 1, 3, 4, 10]"
      ]
     },
     "execution_count": 153,
     "metadata": {},
     "output_type": "execute_result"
    }
   ],
   "source": [
    "list1*2"
   ]
  },
  {
   "cell_type": "code",
   "execution_count": 154,
   "id": "e8b63f40",
   "metadata": {},
   "outputs": [
    {
     "ename": "TypeError",
     "evalue": "can only concatenate list (not \"int\") to list",
     "output_type": "error",
     "traceback": [
      "\u001b[1;31m---------------------------------------------------------------------------\u001b[0m",
      "\u001b[1;31mTypeError\u001b[0m                                 Traceback (most recent call last)",
      "\u001b[1;32m~\\AppData\\Local\\Temp\\ipykernel_14220\\186511427.py\u001b[0m in \u001b[0;36m<module>\u001b[1;34m\u001b[0m\n\u001b[1;32m----> 1\u001b[1;33m \u001b[0mlist1\u001b[0m\u001b[1;33m+\u001b[0m\u001b[1;36m2\u001b[0m\u001b[1;33m\u001b[0m\u001b[1;33m\u001b[0m\u001b[0m\n\u001b[0m",
      "\u001b[1;31mTypeError\u001b[0m: can only concatenate list (not \"int\") to list"
     ]
    }
   ],
   "source": [
    "list1+2"
   ]
  },
  {
   "cell_type": "code",
   "execution_count": 155,
   "id": "1beab62e",
   "metadata": {},
   "outputs": [
    {
     "data": {
      "text/plain": [
       "[1, 3, 4, 10, 2]"
      ]
     },
     "execution_count": 155,
     "metadata": {},
     "output_type": "execute_result"
    }
   ],
   "source": [
    "list1+[2]"
   ]
  },
  {
   "cell_type": "markdown",
   "id": "f01a4950",
   "metadata": {},
   "source": [
    "### Arrays (import numpy)"
   ]
  },
  {
   "cell_type": "code",
   "execution_count": 156,
   "id": "23cc7452",
   "metadata": {},
   "outputs": [],
   "source": [
    "array1 = np.array([1,4,9])\n",
    "array2 = np.array([1,\"a\",3])\n",
    "array3 = np.array([[1,2,3],[1,4,9]])"
   ]
  },
  {
   "cell_type": "code",
   "execution_count": 157,
   "id": "851bd853",
   "metadata": {},
   "outputs": [
    {
     "data": {
      "text/plain": [
       "array([[1, 2, 3],\n",
       "       [1, 4, 9]])"
      ]
     },
     "execution_count": 157,
     "metadata": {},
     "output_type": "execute_result"
    }
   ],
   "source": [
    "array3"
   ]
  },
  {
   "cell_type": "markdown",
   "id": "ff2f03fa",
   "metadata": {},
   "source": [
    "Select elements"
   ]
  },
  {
   "cell_type": "code",
   "execution_count": 158,
   "id": "9bfac838",
   "metadata": {},
   "outputs": [
    {
     "data": {
      "text/plain": [
       "4"
      ]
     },
     "execution_count": 158,
     "metadata": {},
     "output_type": "execute_result"
    }
   ],
   "source": [
    "array1[1]"
   ]
  },
  {
   "cell_type": "code",
   "execution_count": 159,
   "id": "cd7fa320",
   "metadata": {},
   "outputs": [
    {
     "data": {
      "text/plain": [
       "array([1, 4])"
      ]
     },
     "execution_count": 159,
     "metadata": {},
     "output_type": "execute_result"
    }
   ],
   "source": [
    "array1[0:2]"
   ]
  },
  {
   "cell_type": "code",
   "execution_count": 160,
   "id": "799ef7f7",
   "metadata": {},
   "outputs": [
    {
     "data": {
      "text/plain": [
       "array(['1', 'a'], dtype='<U11')"
      ]
     },
     "execution_count": 160,
     "metadata": {},
     "output_type": "execute_result"
    }
   ],
   "source": [
    "array2[0:2]"
   ]
  },
  {
   "cell_type": "code",
   "execution_count": 161,
   "id": "5f173ff8",
   "metadata": {},
   "outputs": [
    {
     "data": {
      "text/plain": [
       "3"
      ]
     },
     "execution_count": 161,
     "metadata": {},
     "output_type": "execute_result"
    }
   ],
   "source": [
    "array3[0][2]"
   ]
  },
  {
   "cell_type": "code",
   "execution_count": 162,
   "id": "12b19265",
   "metadata": {},
   "outputs": [
    {
     "data": {
      "text/plain": [
       "3"
      ]
     },
     "execution_count": 162,
     "metadata": {},
     "output_type": "execute_result"
    }
   ],
   "source": [
    "array3[0,2]"
   ]
  },
  {
   "cell_type": "markdown",
   "id": "d2730874",
   "metadata": {},
   "source": [
    "Manipulate"
   ]
  },
  {
   "cell_type": "code",
   "execution_count": 163,
   "id": "0dc40268",
   "metadata": {},
   "outputs": [
    {
     "data": {
      "text/plain": [
       "array([1, 4, 9, 5])"
      ]
     },
     "execution_count": 163,
     "metadata": {},
     "output_type": "execute_result"
    }
   ],
   "source": [
    "np.append(array1,5)"
   ]
  },
  {
   "cell_type": "code",
   "execution_count": 164,
   "id": "284371e5",
   "metadata": {},
   "outputs": [],
   "source": [
    "array1=np.append(array1,5)"
   ]
  },
  {
   "cell_type": "code",
   "execution_count": 165,
   "id": "8e320240",
   "metadata": {},
   "outputs": [
    {
     "data": {
      "text/plain": [
       "array([1, 4, 9, 5])"
      ]
     },
     "execution_count": 165,
     "metadata": {},
     "output_type": "execute_result"
    }
   ],
   "source": [
    "array1"
   ]
  },
  {
   "cell_type": "markdown",
   "id": "0761b8b1",
   "metadata": {},
   "source": [
    "Manipulate multi-dimensional arrays"
   ]
  },
  {
   "cell_type": "code",
   "execution_count": 166,
   "id": "ea7b5ce9",
   "metadata": {},
   "outputs": [
    {
     "data": {
      "text/plain": [
       "array([[1, 2, 3],\n",
       "       [1, 4, 9]])"
      ]
     },
     "execution_count": 166,
     "metadata": {},
     "output_type": "execute_result"
    }
   ],
   "source": [
    "array3"
   ]
  },
  {
   "cell_type": "code",
   "execution_count": 167,
   "id": "f9c20502",
   "metadata": {},
   "outputs": [
    {
     "data": {
      "text/plain": [
       "array([ 1,  2,  3,  1,  4,  9,  1,  8, 27])"
      ]
     },
     "execution_count": 167,
     "metadata": {},
     "output_type": "execute_result"
    }
   ],
   "source": [
    "np.append(array3,np.array([1,8,27]))"
   ]
  },
  {
   "cell_type": "code",
   "execution_count": 168,
   "id": "80c8d3e1",
   "metadata": {},
   "outputs": [
    {
     "data": {
      "text/plain": [
       "array([[ 1,  2,  3],\n",
       "       [ 1,  4,  9],\n",
       "       [ 1,  8, 27]])"
      ]
     },
     "execution_count": 168,
     "metadata": {},
     "output_type": "execute_result"
    }
   ],
   "source": [
    "np.append(array3,np.array([[1,8,27]]), axis=0)"
   ]
  },
  {
   "cell_type": "code",
   "execution_count": 169,
   "id": "3ffe68e3",
   "metadata": {},
   "outputs": [
    {
     "data": {
      "text/plain": [
       "array([[ 1,  2,  3,  4],\n",
       "       [ 1,  4,  9, 16]])"
      ]
     },
     "execution_count": 169,
     "metadata": {},
     "output_type": "execute_result"
    }
   ],
   "source": [
    "np.append(array3,np.array([[4],[16]]), axis=1)"
   ]
  },
  {
   "cell_type": "markdown",
   "id": "1d6e46aa",
   "metadata": {},
   "source": [
    "Maths"
   ]
  },
  {
   "cell_type": "code",
   "execution_count": 170,
   "id": "fae7ca83",
   "metadata": {},
   "outputs": [
    {
     "data": {
      "text/plain": [
       "array([1, 4, 9, 5])"
      ]
     },
     "execution_count": 170,
     "metadata": {},
     "output_type": "execute_result"
    }
   ],
   "source": [
    "array1"
   ]
  },
  {
   "cell_type": "code",
   "execution_count": 171,
   "id": "c1361c76",
   "metadata": {},
   "outputs": [
    {
     "data": {
      "text/plain": [
       "array([ 2,  8, 18, 10])"
      ]
     },
     "execution_count": 171,
     "metadata": {},
     "output_type": "execute_result"
    }
   ],
   "source": [
    "array1*2"
   ]
  },
  {
   "cell_type": "code",
   "execution_count": 172,
   "id": "5fbb5a08",
   "metadata": {},
   "outputs": [
    {
     "data": {
      "text/plain": [
       "array([ 3,  6, 11,  7])"
      ]
     },
     "execution_count": 172,
     "metadata": {},
     "output_type": "execute_result"
    }
   ],
   "source": [
    "array1+2"
   ]
  },
  {
   "cell_type": "code",
   "execution_count": 173,
   "id": "ef867adf",
   "metadata": {},
   "outputs": [
    {
     "data": {
      "text/plain": [
       "array([[ 2,  4,  6],\n",
       "       [ 2,  8, 18]])"
      ]
     },
     "execution_count": 173,
     "metadata": {},
     "output_type": "execute_result"
    }
   ],
   "source": [
    "array3*2"
   ]
  },
  {
   "cell_type": "code",
   "execution_count": 174,
   "id": "50901a2f",
   "metadata": {},
   "outputs": [
    {
     "data": {
      "text/plain": [
       "array([[ 3,  4,  5],\n",
       "       [ 3,  6, 11]])"
      ]
     },
     "execution_count": 174,
     "metadata": {},
     "output_type": "execute_result"
    }
   ],
   "source": [
    "array3+2"
   ]
  },
  {
   "cell_type": "markdown",
   "id": "74215be2",
   "metadata": {},
   "source": [
    "### Vectors and Matrices"
   ]
  },
  {
   "cell_type": "markdown",
   "id": "d06dbec0",
   "metadata": {},
   "source": [
    "### Vectors"
   ]
  },
  {
   "cell_type": "code",
   "execution_count": 175,
   "id": "2d31ee54",
   "metadata": {},
   "outputs": [],
   "source": [
    "vec1 = np.array([1,1,1])\n",
    "vec2 = np.array([2,3,4])"
   ]
  },
  {
   "cell_type": "markdown",
   "id": "18a66c5e",
   "metadata": {},
   "source": [
    "Dot and cross product"
   ]
  },
  {
   "cell_type": "code",
   "execution_count": 176,
   "id": "fce06233",
   "metadata": {},
   "outputs": [
    {
     "data": {
      "text/plain": [
       "9"
      ]
     },
     "execution_count": 176,
     "metadata": {},
     "output_type": "execute_result"
    }
   ],
   "source": [
    "np.dot(vec1,vec2)"
   ]
  },
  {
   "cell_type": "code",
   "execution_count": 177,
   "id": "e5d5c0eb",
   "metadata": {},
   "outputs": [
    {
     "data": {
      "text/plain": [
       "array([ 1, -2,  1])"
      ]
     },
     "execution_count": 177,
     "metadata": {},
     "output_type": "execute_result"
    }
   ],
   "source": [
    "np.cross(vec1,vec2)"
   ]
  },
  {
   "cell_type": "code",
   "execution_count": 178,
   "id": "aec875a1",
   "metadata": {},
   "outputs": [
    {
     "data": {
      "text/plain": [
       "array([-1,  2, -1])"
      ]
     },
     "execution_count": 178,
     "metadata": {},
     "output_type": "execute_result"
    }
   ],
   "source": [
    "np.cross(vec2,vec1)"
   ]
  },
  {
   "cell_type": "markdown",
   "id": "50850406",
   "metadata": {},
   "source": [
    "Norm"
   ]
  },
  {
   "cell_type": "code",
   "execution_count": 179,
   "id": "884449c9",
   "metadata": {},
   "outputs": [
    {
     "data": {
      "text/plain": [
       "5.385164807134504"
      ]
     },
     "execution_count": 179,
     "metadata": {},
     "output_type": "execute_result"
    }
   ],
   "source": [
    "np.linalg.norm(vec2)"
   ]
  },
  {
   "cell_type": "code",
   "execution_count": 180,
   "id": "fa8e1c32",
   "metadata": {},
   "outputs": [
    {
     "data": {
      "text/plain": [
       "5.385164807134504"
      ]
     },
     "execution_count": 180,
     "metadata": {},
     "output_type": "execute_result"
    }
   ],
   "source": [
    "np.sqrt(vec2[0]**2+vec2[1]**2+vec2[2]**2)"
   ]
  },
  {
   "cell_type": "code",
   "execution_count": 181,
   "id": "41a94eab",
   "metadata": {},
   "outputs": [
    {
     "data": {
      "text/plain": [
       "5.385164807134504"
      ]
     },
     "execution_count": 181,
     "metadata": {},
     "output_type": "execute_result"
    }
   ],
   "source": [
    "np.sqrt(np.sum(vec2**2))"
   ]
  },
  {
   "cell_type": "markdown",
   "id": "1cfcf2a6",
   "metadata": {},
   "source": [
    "### Matrices"
   ]
  },
  {
   "cell_type": "code",
   "execution_count": 182,
   "id": "1333904e",
   "metadata": {},
   "outputs": [],
   "source": [
    "mat1 = np.array([[1,-2,3],[-4,5,-6],[7,-8,9]])\n",
    "mat2 = np.array([[1,1,1],[0,2,2],[0,0,3]])"
   ]
  },
  {
   "cell_type": "code",
   "execution_count": 183,
   "id": "02d6e0ed",
   "metadata": {},
   "outputs": [
    {
     "data": {
      "text/plain": [
       "array([[ 1, -2,  3],\n",
       "       [-4,  5, -6],\n",
       "       [ 7, -8,  9]])"
      ]
     },
     "execution_count": 183,
     "metadata": {},
     "output_type": "execute_result"
    }
   ],
   "source": [
    "mat1"
   ]
  },
  {
   "cell_type": "code",
   "execution_count": 184,
   "id": "19e95416",
   "metadata": {},
   "outputs": [
    {
     "data": {
      "text/plain": [
       "array([[1, 1, 1],\n",
       "       [0, 2, 2],\n",
       "       [0, 0, 3]])"
      ]
     },
     "execution_count": 184,
     "metadata": {},
     "output_type": "execute_result"
    }
   ],
   "source": [
    "mat2"
   ]
  },
  {
   "cell_type": "markdown",
   "id": "e637cfb5",
   "metadata": {},
   "source": [
    "Multiplication"
   ]
  },
  {
   "cell_type": "code",
   "execution_count": 185,
   "id": "180ce33c",
   "metadata": {},
   "outputs": [
    {
     "data": {
      "text/plain": [
       "array([[  1,  -2,   3],\n",
       "       [  0,  10, -12],\n",
       "       [  0,   0,  27]])"
      ]
     },
     "execution_count": 185,
     "metadata": {},
     "output_type": "execute_result"
    }
   ],
   "source": [
    "mat1*mat2"
   ]
  },
  {
   "cell_type": "code",
   "execution_count": 186,
   "id": "00257d9f",
   "metadata": {},
   "outputs": [
    {
     "data": {
      "text/plain": [
       "array([[  1,  -3,   6],\n",
       "       [ -4,   6, -12],\n",
       "       [  7,  -9,  18]])"
      ]
     },
     "execution_count": 186,
     "metadata": {},
     "output_type": "execute_result"
    }
   ],
   "source": [
    "np.matmul(mat1,mat2)"
   ]
  },
  {
   "cell_type": "markdown",
   "id": "34cc24c1",
   "metadata": {},
   "source": [
    "Determinant and inverse"
   ]
  },
  {
   "cell_type": "code",
   "execution_count": 187,
   "id": "a2074c1e",
   "metadata": {},
   "outputs": [
    {
     "data": {
      "text/plain": [
       "6.0"
      ]
     },
     "execution_count": 187,
     "metadata": {},
     "output_type": "execute_result"
    }
   ],
   "source": [
    "np.linalg.det(mat2)"
   ]
  },
  {
   "cell_type": "code",
   "execution_count": 188,
   "id": "b925153d",
   "metadata": {},
   "outputs": [
    {
     "data": {
      "text/plain": [
       "array([[ 1.        , -0.5       ,  0.        ],\n",
       "       [ 0.        ,  0.5       , -0.33333333],\n",
       "       [ 0.        ,  0.        ,  0.33333333]])"
      ]
     },
     "execution_count": 188,
     "metadata": {},
     "output_type": "execute_result"
    }
   ],
   "source": [
    "np.linalg.inv(mat2)"
   ]
  },
  {
   "cell_type": "code",
   "execution_count": 189,
   "id": "437414ef",
   "metadata": {},
   "outputs": [
    {
     "data": {
      "text/plain": [
       "array([[1.00000000e+00, 0.00000000e+00, 0.00000000e+00],\n",
       "       [0.00000000e+00, 1.00000000e+00, 5.55111512e-17],\n",
       "       [0.00000000e+00, 0.00000000e+00, 1.00000000e+00]])"
      ]
     },
     "execution_count": 189,
     "metadata": {},
     "output_type": "execute_result"
    }
   ],
   "source": [
    "np.matmul(np.linalg.inv(mat2),mat2)"
   ]
  },
  {
   "cell_type": "markdown",
   "id": "3c83d463",
   "metadata": {},
   "source": [
    "### Dictionaries"
   ]
  },
  {
   "cell_type": "code",
   "execution_count": 190,
   "id": "34d5c319",
   "metadata": {},
   "outputs": [],
   "source": [
    "dict1 = {\n",
    "    \"brand\": \"Mercedes\",\n",
    "    \"model\": \"Sprinter\",\n",
    "    \"year\": 1995\n",
    "}"
   ]
  },
  {
   "cell_type": "code",
   "execution_count": 191,
   "id": "612b510d",
   "metadata": {},
   "outputs": [
    {
     "data": {
      "text/plain": [
       "{'brand': 'Mercedes', 'model': 'Sprinter', 'year': 1995}"
      ]
     },
     "execution_count": 191,
     "metadata": {},
     "output_type": "execute_result"
    }
   ],
   "source": [
    "dict1"
   ]
  },
  {
   "cell_type": "markdown",
   "id": "1fce0d30",
   "metadata": {},
   "source": [
    "Select entries"
   ]
  },
  {
   "cell_type": "code",
   "execution_count": 192,
   "id": "f5f6ccfa",
   "metadata": {},
   "outputs": [],
   "source": [
    "#dict1[1] not working"
   ]
  },
  {
   "cell_type": "code",
   "execution_count": 193,
   "id": "f7120c05",
   "metadata": {},
   "outputs": [
    {
     "data": {
      "text/plain": [
       "'Sprinter'"
      ]
     },
     "execution_count": 193,
     "metadata": {},
     "output_type": "execute_result"
    }
   ],
   "source": [
    "dict1[\"model\"]"
   ]
  },
  {
   "cell_type": "code",
   "execution_count": 194,
   "id": "ee0d2890",
   "metadata": {},
   "outputs": [
    {
     "data": {
      "text/plain": [
       "dict_keys(['brand', 'model', 'year'])"
      ]
     },
     "execution_count": 194,
     "metadata": {},
     "output_type": "execute_result"
    }
   ],
   "source": [
    "dict1.keys()"
   ]
  },
  {
   "cell_type": "code",
   "execution_count": 195,
   "id": "3a0b9f88",
   "metadata": {},
   "outputs": [
    {
     "data": {
      "text/plain": [
       "dict_values(['Mercedes', 'Sprinter', 1995])"
      ]
     },
     "execution_count": 195,
     "metadata": {},
     "output_type": "execute_result"
    }
   ],
   "source": [
    "dict1.values()"
   ]
  },
  {
   "cell_type": "markdown",
   "id": "ad5b9d7b",
   "metadata": {},
   "source": [
    "Manipulate entries"
   ]
  },
  {
   "cell_type": "code",
   "execution_count": 196,
   "id": "f81f0166",
   "metadata": {},
   "outputs": [],
   "source": [
    "dict1[\"year\"] = 1996\n",
    "dict1[\"country\"] = \"Germany\""
   ]
  },
  {
   "cell_type": "code",
   "execution_count": 197,
   "id": "684c1fa0",
   "metadata": {},
   "outputs": [
    {
     "data": {
      "text/plain": [
       "{'brand': 'Mercedes', 'model': 'Sprinter', 'year': 1996, 'country': 'Germany'}"
      ]
     },
     "execution_count": 197,
     "metadata": {},
     "output_type": "execute_result"
    }
   ],
   "source": [
    "dict1"
   ]
  },
  {
   "cell_type": "markdown",
   "id": "898f34a9",
   "metadata": {},
   "source": [
    "## Loops & If statements"
   ]
  },
  {
   "cell_type": "markdown",
   "id": "0223b044",
   "metadata": {},
   "source": [
    "### While loop"
   ]
  },
  {
   "cell_type": "code",
   "execution_count": 198,
   "id": "6b128817",
   "metadata": {},
   "outputs": [
    {
     "name": "stdout",
     "output_type": "stream",
     "text": [
      "1\n",
      "2\n",
      "3\n",
      "4\n",
      "5\n",
      "6\n",
      "7\n",
      "8\n",
      "9\n",
      "10\n"
     ]
    }
   ],
   "source": [
    "i = 1\n",
    "\n",
    "while i <= 10:\n",
    "    print(i)\n",
    "    i = i+1"
   ]
  },
  {
   "cell_type": "markdown",
   "id": "22a7713e",
   "metadata": {},
   "source": [
    "### While loop with if statement"
   ]
  },
  {
   "cell_type": "code",
   "execution_count": 199,
   "id": "08dac301",
   "metadata": {},
   "outputs": [
    {
     "name": "stdout",
     "output_type": "stream",
     "text": [
      "odd\n",
      "2\n",
      "odd\n",
      "4\n",
      "odd\n",
      "6\n",
      "odd\n",
      "8\n",
      "odd\n",
      "10\n"
     ]
    }
   ],
   "source": [
    "i = 1\n",
    "\n",
    "while i <= 10:\n",
    "    if i%2 == 0:\n",
    "        print(i)\n",
    "    else:\n",
    "        print(\"odd\")\n",
    "    i = i+1"
   ]
  },
  {
   "cell_type": "markdown",
   "id": "25679e12",
   "metadata": {},
   "source": [
    "### For loop"
   ]
  },
  {
   "cell_type": "code",
   "execution_count": 200,
   "id": "82096ab6",
   "metadata": {},
   "outputs": [
    {
     "name": "stdout",
     "output_type": "stream",
     "text": [
      "1\n",
      "2\n",
      "5\n",
      "10\n"
     ]
    }
   ],
   "source": [
    "for i in [1,2,5,10]:\n",
    "    print(i)"
   ]
  },
  {
   "cell_type": "code",
   "execution_count": 201,
   "id": "42a072b6",
   "metadata": {},
   "outputs": [
    {
     "name": "stdout",
     "output_type": "stream",
     "text": [
      "t\n",
      "e\n",
      "s\n",
      "t\n"
     ]
    }
   ],
   "source": [
    "for i in \"test\":\n",
    "    print(i)"
   ]
  },
  {
   "cell_type": "code",
   "execution_count": 202,
   "id": "f7221d59",
   "metadata": {},
   "outputs": [
    {
     "name": "stdout",
     "output_type": "stream",
     "text": [
      "odd\n",
      "2\n",
      "odd\n",
      "4\n",
      "odd\n",
      "6\n",
      "odd\n",
      "8\n",
      "odd\n",
      "10\n"
     ]
    }
   ],
   "source": [
    "for i in [1,2,3,4,5,6,7,8,9,10]:\n",
    "    if i%2==0:\n",
    "        print(i)\n",
    "    else:\n",
    "        print(\"odd\")\n",
    "    i = i+1"
   ]
  },
  {
   "cell_type": "code",
   "execution_count": 203,
   "id": "dc1eefa4",
   "metadata": {},
   "outputs": [],
   "source": [
    "storelist = []\n",
    "for i in range(1,6):\n",
    "    storelist.append(i**2)"
   ]
  },
  {
   "cell_type": "code",
   "execution_count": 204,
   "id": "c8696c19",
   "metadata": {},
   "outputs": [
    {
     "data": {
      "text/plain": [
       "[1, 4, 9, 16, 25]"
      ]
     },
     "execution_count": 204,
     "metadata": {},
     "output_type": "execute_result"
    }
   ],
   "source": [
    "storelist"
   ]
  },
  {
   "cell_type": "markdown",
   "id": "9a42f405",
   "metadata": {},
   "source": [
    "## Work with files"
   ]
  },
  {
   "cell_type": "markdown",
   "id": "59fc0b05",
   "metadata": {},
   "source": [
    "### Save"
   ]
  },
  {
   "cell_type": "markdown",
   "id": "ba81e7c0",
   "metadata": {},
   "source": [
    "Save the whole list at once"
   ]
  },
  {
   "cell_type": "code",
   "execution_count": 209,
   "id": "c89543d2",
   "metadata": {},
   "outputs": [],
   "source": [
    "np.savetxt(\"storelist1.dat\", storelist, fmt=\"%s\")"
   ]
  },
  {
   "cell_type": "code",
   "execution_count": 214,
   "id": "c76f9950",
   "metadata": {},
   "outputs": [],
   "source": [
    "np.savetxt(\"storelist2.dat\", storelist)"
   ]
  },
  {
   "cell_type": "markdown",
   "id": "2098a20f",
   "metadata": {},
   "source": [
    "Save each line one after another"
   ]
  },
  {
   "cell_type": "code",
   "execution_count": 220,
   "id": "9933bcf0",
   "metadata": {},
   "outputs": [],
   "source": [
    "file = open('storelist3.dat','w')\n",
    "\n",
    "for i in  range(1,6):\n",
    "    file.write(chr(i**2))\n",
    "    file.write(\"\\n\")\n",
    "\n",
    "file.close()"
   ]
  },
  {
   "cell_type": "code",
   "execution_count": null,
   "id": "4d8db424",
   "metadata": {},
   "outputs": [],
   "source": [
    "with open('storelist4.dat','w') as file:\n",
    "    asdasd"
   ]
  },
  {
   "cell_type": "markdown",
   "id": "fcfd7618",
   "metadata": {},
   "source": [
    "### Load"
   ]
  },
  {
   "cell_type": "code",
   "execution_count": 222,
   "id": "dc55e379",
   "metadata": {},
   "outputs": [],
   "source": [
    "loadlist = np.loadtxt(\"storelist1.dat\")"
   ]
  },
  {
   "cell_type": "code",
   "execution_count": 223,
   "id": "8a7aea2a",
   "metadata": {},
   "outputs": [
    {
     "data": {
      "text/plain": [
       "array([ 1.,  4.,  9., 16., 25.])"
      ]
     },
     "execution_count": 223,
     "metadata": {},
     "output_type": "execute_result"
    }
   ],
   "source": [
    "loadlist"
   ]
  },
  {
   "cell_type": "code",
   "execution_count": 224,
   "id": "0e48c5f9",
   "metadata": {},
   "outputs": [
    {
     "data": {
      "text/plain": [
       "1.0"
      ]
     },
     "execution_count": 224,
     "metadata": {},
     "output_type": "execute_result"
    }
   ],
   "source": [
    "loadlist[0]"
   ]
  },
  {
   "cell_type": "markdown",
   "id": "ea05e2b0",
   "metadata": {},
   "source": [
    "## Functions"
   ]
  },
  {
   "cell_type": "markdown",
   "id": "546f29c8",
   "metadata": {},
   "source": [
    "def _name_(_arguments_):\n",
    "\n",
    "    commands"
   ]
  },
  {
   "cell_type": "markdown",
   "id": "1f771f79",
   "metadata": {},
   "source": [
    "First function without arguments"
   ]
  },
  {
   "cell_type": "code",
   "execution_count": 237,
   "id": "2f64c11f",
   "metadata": {},
   "outputs": [],
   "source": [
    "def sayHello():\n",
    "    print(\"Hello!\")"
   ]
  },
  {
   "cell_type": "code",
   "execution_count": 238,
   "id": "fbc1ccfa",
   "metadata": {},
   "outputs": [
    {
     "name": "stdout",
     "output_type": "stream",
     "text": [
      "Hello!\n"
     ]
    }
   ],
   "source": [
    "sayHello()"
   ]
  },
  {
   "cell_type": "markdown",
   "id": "12767034",
   "metadata": {},
   "source": [
    "Create your own dot product function"
   ]
  },
  {
   "cell_type": "code",
   "execution_count": 239,
   "id": "b0511f87",
   "metadata": {},
   "outputs": [
    {
     "data": {
      "text/plain": [
       "9"
      ]
     },
     "execution_count": 239,
     "metadata": {},
     "output_type": "execute_result"
    }
   ],
   "source": [
    "vec1 = np.array([1,1,1])\n",
    "vec2 = np.array([2,3,4])\n",
    "\n",
    "np.dot(vec1,vec2)"
   ]
  },
  {
   "cell_type": "code",
   "execution_count": 242,
   "id": "f7177b74",
   "metadata": {},
   "outputs": [],
   "source": [
    "def dotProduct(a,b):\n",
    "    c = a[0]*b[0]+a[1]*b[1]+a[2]*b[2]\n",
    "    #print(c) not really useful\n",
    "    return(c)"
   ]
  },
  {
   "cell_type": "code",
   "execution_count": 243,
   "id": "245972df",
   "metadata": {},
   "outputs": [],
   "source": [
    "d = dotProduct(vec1,vec2)"
   ]
  },
  {
   "cell_type": "code",
   "execution_count": 247,
   "id": "b6f4219b",
   "metadata": {},
   "outputs": [
    {
     "data": {
      "text/plain": [
       "9"
      ]
     },
     "execution_count": 247,
     "metadata": {},
     "output_type": "execute_result"
    }
   ],
   "source": [
    "d"
   ]
  },
  {
   "cell_type": "markdown",
   "id": "b6dadb70",
   "metadata": {},
   "source": [
    "Use argument keywords"
   ]
  },
  {
   "cell_type": "code",
   "execution_count": 248,
   "id": "f5378145",
   "metadata": {},
   "outputs": [],
   "source": [
    "def personaldata(number, name, age):\n",
    "    print(\"ID: \" + str(number))\n",
    "    print(\"Name: \" + name)\n",
    "    print(\"Age: \" + str(age))"
   ]
  },
  {
   "cell_type": "code",
   "execution_count": 249,
   "id": "7bd688bd",
   "metadata": {},
   "outputs": [
    {
     "name": "stdout",
     "output_type": "stream",
     "text": [
      "ID: 449\n",
      "Name: Peter\n",
      "Age: 29\n"
     ]
    }
   ],
   "source": [
    "personaldata(449, \"Peter\", 29)"
   ]
  },
  {
   "cell_type": "code",
   "execution_count": 250,
   "id": "a42ff9d3",
   "metadata": {},
   "outputs": [
    {
     "name": "stdout",
     "output_type": "stream",
     "text": [
      "ID: 49\n",
      "Name: Peter\n",
      "Age: 29\n"
     ]
    }
   ],
   "source": [
    "personaldata(age=29, number=49, name=\"Peter\")"
   ]
  },
  {
   "cell_type": "markdown",
   "id": "5f84b488",
   "metadata": {},
   "source": [
    "## Plots (import matplotlib)"
   ]
  },
  {
   "cell_type": "code",
   "execution_count": 252,
   "id": "6ccb52c4",
   "metadata": {},
   "outputs": [],
   "source": [
    "import matplotlib.pyplot as plt"
   ]
  },
  {
   "cell_type": "markdown",
   "id": "b12613a9",
   "metadata": {},
   "source": [
    "### Scatter"
   ]
  },
  {
   "cell_type": "code",
   "execution_count": 254,
   "id": "705a886c",
   "metadata": {},
   "outputs": [
    {
     "data": {
      "text/plain": [
       "<matplotlib.collections.PathCollection at 0x261d3af3eb0>"
      ]
     },
     "execution_count": 254,
     "metadata": {},
     "output_type": "execute_result"
    },
    {
     "data": {
      "image/png": "[encoded data removed]",
      "text/plain": [
       "<Figure size 640x480 with 1 Axes>"
      ]
     },
     "metadata": {},
     "output_type": "display_data"
    }
   ],
   "source": [
    "plt.scatter([1,2,3,4,5],[5,1,-1,0,2])"
   ]
  },
  {
   "cell_type": "code",
   "execution_count": 269,
   "id": "106a8b92",
   "metadata": {},
   "outputs": [],
   "source": [
    "coords1 = np.array([[1,1,1],[2,4,8],[3,9,27],[4,16,64],[5,25,125]])"
   ]
  },
  {
   "cell_type": "code",
   "execution_count": 270,
   "id": "29c896d8",
   "metadata": {},
   "outputs": [
    {
     "data": {
      "text/plain": [
       "array([[  1,   1,   1],\n",
       "       [  2,   4,   8],\n",
       "       [  3,   9,  27],\n",
       "       [  4,  16,  64],\n",
       "       [  5,  25, 125]])"
      ]
     },
     "execution_count": 270,
     "metadata": {},
     "output_type": "execute_result"
    }
   ],
   "source": [
    "coords1"
   ]
  },
  {
   "cell_type": "code",
   "execution_count": 281,
   "id": "72d994a9",
   "metadata": {},
   "outputs": [],
   "source": [
    "x1, y1, z1 = coords1.T"
   ]
  },
  {
   "cell_type": "code",
   "execution_count": 283,
   "id": "e3ad103a",
   "metadata": {},
   "outputs": [
    {
     "data": {
      "text/plain": [
       "<matplotlib.collections.PathCollection at 0x261d3d86a00>"
      ]
     },
     "execution_count": 283,
     "metadata": {},
     "output_type": "execute_result"
    },
    {
     "data": {
      "image/png": "[encoded data removed]",
      "text/plain": [
       "<Figure size 640x480 with 1 Axes>"
      ]
     },
     "metadata": {},
     "output_type": "display_data"
    }
   ],
   "source": [
    "plt.xlabel('x')\n",
    "plt.ylabel('y, z')\n",
    "plt.scatter(x1, y1)\n",
    "plt.scatter(x1, z1)"
   ]
  },
  {
   "cell_type": "markdown",
   "id": "3c87de0e",
   "metadata": {},
   "source": [
    "### Plot"
   ]
  },
  {
   "cell_type": "code",
   "execution_count": 299,
   "id": "d5f4b0dd",
   "metadata": {},
   "outputs": [],
   "source": [
    "#data points\n",
    "x1 = np.linspace(0,4,101)\n",
    "y1 = 1 + 2*np.cos(3*x1)"
   ]
  },
  {
   "cell_type": "code",
   "execution_count": 304,
   "id": "1355713c",
   "metadata": {},
   "outputs": [
    {
     "data": {
      "image/png": "[encoded data removed]",
      "text/plain": [
       "<Figure size 640x480 with 1 Axes>"
      ]
     },
     "metadata": {},
     "output_type": "display_data"
    }
   ],
   "source": [
    "plt.xlim([0,8])\n",
    "plt.plot(x1, y1)\n",
    "\n",
    "x2 = np.linspace(4,8,101)\n",
    "y2 = 1 + 2*np.cos(3*x2)\n",
    "plt.scatter(x2, y2)\n",
    "\n",
    "plt.savefig('testplot.png')"
   ]
  },
  {
   "cell_type": "markdown",
   "id": "d1533152",
   "metadata": {},
   "source": [
    "### Density plot"
   ]
  },
  {
   "cell_type": "code",
   "execution_count": 308,
   "id": "8267dc9d",
   "metadata": {},
   "outputs": [
    {
     "data": {
      "text/plain": [
       "array([0., 1., 2., 3., 4., 5.])"
      ]
     },
     "execution_count": 308,
     "metadata": {},
     "output_type": "execute_result"
    }
   ],
   "source": [
    "np.linspace(0,5,6)"
   ]
  },
  {
   "cell_type": "code",
   "execution_count": 309,
   "id": "6c554304",
   "metadata": {},
   "outputs": [
    {
     "data": {
      "text/plain": [
       "[array([[0., 1., 2., 3., 4., 5.],\n",
       "        [0., 1., 2., 3., 4., 5.],\n",
       "        [0., 1., 2., 3., 4., 5.],\n",
       "        [0., 1., 2., 3., 4., 5.],\n",
       "        [0., 1., 2., 3., 4., 5.],\n",
       "        [0., 1., 2., 3., 4., 5.]]),\n",
       " array([[ 5.,  5.,  5.,  5.,  5.,  5.],\n",
       "        [ 6.,  6.,  6.,  6.,  6.,  6.],\n",
       "        [ 7.,  7.,  7.,  7.,  7.,  7.],\n",
       "        [ 8.,  8.,  8.,  8.,  8.,  8.],\n",
       "        [ 9.,  9.,  9.,  9.,  9.,  9.],\n",
       "        [10., 10., 10., 10., 10., 10.]])]"
      ]
     },
     "execution_count": 309,
     "metadata": {},
     "output_type": "execute_result"
    }
   ],
   "source": [
    " np.meshgrid(\n",
    "    np.linspace(0,5,6),\n",
    "    np.linspace(5,10,6)\n",
    " )"
   ]
  },
  {
   "cell_type": "code",
   "execution_count": 310,
   "id": "aec9347e",
   "metadata": {},
   "outputs": [
    {
     "data": {
      "text/plain": [
       "array([[[ 0.,  5.],\n",
       "        [ 0.,  6.],\n",
       "        [ 0.,  7.],\n",
       "        [ 0.,  8.],\n",
       "        [ 0.,  9.],\n",
       "        [ 0., 10.]],\n",
       "\n",
       "       [[ 1.,  5.],\n",
       "        [ 1.,  6.],\n",
       "        [ 1.,  7.],\n",
       "        [ 1.,  8.],\n",
       "        [ 1.,  9.],\n",
       "        [ 1., 10.]],\n",
       "\n",
       "       [[ 2.,  5.],\n",
       "        [ 2.,  6.],\n",
       "        [ 2.,  7.],\n",
       "        [ 2.,  8.],\n",
       "        [ 2.,  9.],\n",
       "        [ 2., 10.]],\n",
       "\n",
       "       [[ 3.,  5.],\n",
       "        [ 3.,  6.],\n",
       "        [ 3.,  7.],\n",
       "        [ 3.,  8.],\n",
       "        [ 3.,  9.],\n",
       "        [ 3., 10.]],\n",
       "\n",
       "       [[ 4.,  5.],\n",
       "        [ 4.,  6.],\n",
       "        [ 4.,  7.],\n",
       "        [ 4.,  8.],\n",
       "        [ 4.,  9.],\n",
       "        [ 4., 10.]],\n",
       "\n",
       "       [[ 5.,  5.],\n",
       "        [ 5.,  6.],\n",
       "        [ 5.,  7.],\n",
       "        [ 5.,  8.],\n",
       "        [ 5.,  9.],\n",
       "        [ 5., 10.]]])"
      ]
     },
     "execution_count": 310,
     "metadata": {},
     "output_type": "execute_result"
    }
   ],
   "source": [
    "np.transpose(\n",
    "    np.meshgrid(\n",
    "        np.linspace(0,5,6),\n",
    "        np.linspace(5,10,6)\n",
    "    )\n",
    ")"
   ]
  },
  {
   "cell_type": "code",
   "execution_count": 314,
   "id": "be8d00d1",
   "metadata": {},
   "outputs": [],
   "source": [
    "x2, y2 = np.meshgrid(np.linspace(-10,10,201), np.linspace(-10,10,201))\n",
    "z2 = x2 + y2**2"
   ]
  },
  {
   "cell_type": "code",
   "execution_count": 318,
   "id": "88d5887c",
   "metadata": {},
   "outputs": [
    {
     "data": {
      "text/plain": [
       "<a list of 15 text.Text objects>"
      ]
     },
     "execution_count": 318,
     "metadata": {},
     "output_type": "execute_result"
    },
    {
     "data": {
      "image/png": "[encoded data removed]",
      "text/plain": [
       "<Figure size 640x480 with 1 Axes>"
      ]
     },
     "metadata": {},
     "output_type": "display_data"
    }
   ],
   "source": [
    "contourplot = plt.contour(x2,y2,z2)\n",
    "plt.clabel(contourplot, inline = 1, fontsize = 10)"
   ]
  },
  {
   "cell_type": "code",
   "execution_count": 321,
   "id": "8509fd39",
   "metadata": {},
   "outputs": [
    {
     "data": {
      "text/plain": [
       "<matplotlib.colorbar.Colorbar at 0x261d63de550>"
      ]
     },
     "execution_count": 321,
     "metadata": {},
     "output_type": "execute_result"
    },
    {
     "data": {
      "image/png": "[encoded data removed]",
      "text/plain": [
       "<Figure size 640x480 with 2 Axes>"
      ]
     },
     "metadata": {},
     "output_type": "display_data"
    }
   ],
   "source": [
    "x3, y3 = np.meshgrid(np.linspace(-10,10,201),np.linspace(-10,10,201))\n",
    "z3 = np.cos(x3+y3) + 0.05*(x3-y3)\n",
    "\n",
    "plt.contourf(x3,y3,z3)\n",
    "plt.colorbar()"
   ]
  },
  {
   "cell_type": "markdown",
   "id": "75d4f04e",
   "metadata": {},
   "source": [
    "### 3d plots"
   ]
  },
  {
   "cell_type": "code",
   "execution_count": 332,
   "id": "a045b78f",
   "metadata": {},
   "outputs": [
    {
     "data": {
      "text/plain": [
       "<matplotlib.contour.QuadContourSet at 0x261dd574c10>"
      ]
     },
     "execution_count": 332,
     "metadata": {},
     "output_type": "execute_result"
    },
    {
     "data": {
      "image/png": "[encoded data removed]",
      "text/plain": [
       "<Figure size 640x480 with 1 Axes>"
      ]
     },
     "metadata": {},
     "output_type": "display_data"
    }
   ],
   "source": [
    "plotproj = plt.axes(projection='3d')\n",
    "plotproj.view_init(70,30)\n",
    "plotproj.contour3D(x3,y3,z3,100, cmap = 'binary')"
   ]
  },
  {
   "cell_type": "markdown",
   "id": "627ab7c9",
   "metadata": {},
   "source": [
    "### 3d plots - lines & scatter plot"
   ]
  },
  {
   "cell_type": "code",
   "execution_count": 335,
   "id": "3d8b91b9",
   "metadata": {},
   "outputs": [
    {
     "data": {
      "text/plain": [
       "[<mpl_toolkits.mplot3d.art3d.Line3D at 0x261dfd32040>]"
      ]
     },
     "execution_count": 335,
     "metadata": {},
     "output_type": "execute_result"
    },
    {
     "data": {
      "image/png": "[encoded data removed]",
      "text/plain": [
       "<Figure size 640x480 with 1 Axes>"
      ]
     },
     "metadata": {},
     "output_type": "display_data"
    }
   ],
   "source": [
    "plt3D = plt.axes(projection='3d')\n",
    "z1 =  np.linspace(0,30,301)\n",
    "x1 = np.sin(z1)\n",
    "y1 = 2*np.cos(z1)\n",
    "plt.xlim([-2,2])\n",
    "plt.ylim([-2,2])\n",
    "plt3D.plot3D(x1, y1, z1)"
   ]
  },
  {
   "cell_type": "code",
   "execution_count": null,
   "id": "259af262",
   "metadata": {},
   "outputs": [],
   "source": []
  }
 ],
 "metadata": {
  "kernelspec": {
   "display_name": "Python 3 (ipykernel)",
   "language": "python",
   "name": "python3"
  },
  "language_info": {
   "codemirror_mode": {
    "name": "ipython",
    "version": 3
   },
   "file_extension": ".py",
   "mimetype": "text/x-python",
   "name": "python",
   "nbconvert_exporter": "python",
   "pygments_lexer": "ipython3",
   "version": "3.9.13"
  }
 },
 "nbformat": 4,
 "nbformat_minor": 5
}
